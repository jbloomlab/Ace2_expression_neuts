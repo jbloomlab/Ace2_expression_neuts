{
 "cells": [
  {
   "cell_type": "markdown",
   "id": "72bc130e-b775-4c1f-8b92-c90383c1c709",
   "metadata": {},
   "source": [
    "# Plot ACE2 expression vs Infectivity\n",
    "\n",
    "This notebook plots pseudovirus infectivity in HEK293T clones expressing different levels of ACE2."
   ]
  },
  {
   "cell_type": "code",
   "execution_count": 1,
   "id": "b67645d8",
   "metadata": {
    "execution": {
     "iopub.execute_input": "2022-03-25T17:33:59.730062Z",
     "iopub.status.busy": "2022-03-25T17:33:59.729402Z",
     "iopub.status.idle": "2022-03-25T17:34:02.054789Z",
     "shell.execute_reply": "2022-03-25T17:34:02.053988Z"
    }
   },
   "outputs": [],
   "source": [
    "import os\n",
    "import warnings\n",
    "\n",
    "import pandas as pd\n",
    "from plotnine import *\n",
    "\n",
    "import yaml"
   ]
  },
  {
   "cell_type": "code",
   "execution_count": 2,
   "id": "276a115d",
   "metadata": {
    "execution": {
     "iopub.execute_input": "2022-03-25T17:34:02.059640Z",
     "iopub.status.busy": "2022-03-25T17:34:02.059051Z",
     "iopub.status.idle": "2022-03-25T17:34:02.061364Z",
     "shell.execute_reply": "2022-03-25T17:34:02.060840Z"
    }
   },
   "outputs": [],
   "source": [
    "warnings.simplefilter('ignore')"
   ]
  },
  {
   "cell_type": "code",
   "execution_count": 3,
   "id": "4a84d6ec",
   "metadata": {
    "execution": {
     "iopub.execute_input": "2022-03-25T17:34:02.068941Z",
     "iopub.status.busy": "2022-03-25T17:34:02.065480Z",
     "iopub.status.idle": "2022-03-25T17:34:02.070745Z",
     "shell.execute_reply": "2022-03-25T17:34:02.071303Z"
    }
   },
   "outputs": [],
   "source": [
    "with open('config.yaml') as f:\n",
    "    config = yaml.safe_load(f)"
   ]
  },
  {
   "cell_type": "code",
   "execution_count": 4,
   "id": "88f34d8b",
   "metadata": {
    "execution": {
     "iopub.execute_input": "2022-03-25T17:34:02.075746Z",
     "iopub.status.busy": "2022-03-25T17:34:02.075068Z",
     "iopub.status.idle": "2022-03-25T17:34:02.077579Z",
     "shell.execute_reply": "2022-03-25T17:34:02.077018Z"
    }
   },
   "outputs": [],
   "source": [
    "resultsdir=config['resultsdir']\n",
    "os.makedirs(resultsdir, exist_ok=True)"
   ]
  },
  {
   "cell_type": "code",
   "execution_count": 5,
   "id": "4fc07f35",
   "metadata": {
    "execution": {
     "iopub.execute_input": "2022-03-25T17:34:02.085595Z",
     "iopub.status.busy": "2022-03-25T17:34:02.083947Z",
     "iopub.status.idle": "2022-03-25T17:34:02.097900Z",
     "shell.execute_reply": "2022-03-25T17:34:02.097375Z"
    }
   },
   "outputs": [
    {
     "data": {
      "text/html": [
       "<div>\n",
       "<style scoped>\n",
       "    .dataframe tbody tr th:only-of-type {\n",
       "        vertical-align: middle;\n",
       "    }\n",
       "\n",
       "    .dataframe tbody tr th {\n",
       "        vertical-align: top;\n",
       "    }\n",
       "\n",
       "    .dataframe thead th {\n",
       "        text-align: right;\n",
       "    }\n",
       "</style>\n",
       "<table border=\"1\" class=\"dataframe\">\n",
       "  <thead>\n",
       "    <tr style=\"text-align: right;\">\n",
       "      <th></th>\n",
       "      <th>cells</th>\n",
       "      <th>MFI (mode)</th>\n",
       "      <th>RLU/ul</th>\n",
       "      <th>relative MFI</th>\n",
       "      <th>relative RLU/ul</th>\n",
       "    </tr>\n",
       "  </thead>\n",
       "  <tbody>\n",
       "    <tr>\n",
       "      <th>0</th>\n",
       "      <td>high</td>\n",
       "      <td>60904</td>\n",
       "      <td>50877.35</td>\n",
       "      <td>1.000000</td>\n",
       "      <td>1.000000</td>\n",
       "    </tr>\n",
       "    <tr>\n",
       "      <th>1</th>\n",
       "      <td>medium</td>\n",
       "      <td>6344</td>\n",
       "      <td>39923.31</td>\n",
       "      <td>0.104164</td>\n",
       "      <td>0.784697</td>\n",
       "    </tr>\n",
       "    <tr>\n",
       "      <th>2</th>\n",
       "      <td>low</td>\n",
       "      <td>2255</td>\n",
       "      <td>8123.15</td>\n",
       "      <td>0.037025</td>\n",
       "      <td>0.159661</td>\n",
       "    </tr>\n",
       "    <tr>\n",
       "      <th>3</th>\n",
       "      <td>very low</td>\n",
       "      <td>1119</td>\n",
       "      <td>1830.92</td>\n",
       "      <td>0.018373</td>\n",
       "      <td>0.035987</td>\n",
       "    </tr>\n",
       "  </tbody>\n",
       "</table>\n",
       "</div>"
      ],
      "text/plain": [
       "      cells  MFI (mode)    RLU/ul  relative MFI  relative RLU/ul\n",
       "0      high       60904  50877.35      1.000000         1.000000\n",
       "1    medium        6344  39923.31      0.104164         0.784697\n",
       "2       low        2255   8123.15      0.037025         0.159661\n",
       "3  very low        1119   1830.92      0.018373         0.035987"
      ]
     },
     "execution_count": 5,
     "metadata": {},
     "output_type": "execute_result"
    }
   ],
   "source": [
    "df = pd.read_csv(config['ACE2_expression_df'])\n",
    "df"
   ]
  },
  {
   "cell_type": "code",
   "execution_count": 6,
   "id": "5254d667",
   "metadata": {
    "execution": {
     "iopub.execute_input": "2022-03-25T17:34:02.103364Z",
     "iopub.status.busy": "2022-03-25T17:34:02.102640Z",
     "iopub.status.idle": "2022-03-25T17:34:02.105019Z",
     "shell.execute_reply": "2022-03-25T17:34:02.104460Z"
    }
   },
   "outputs": [],
   "source": [
    "cat_order = ['very low', 'low', 'medium', 'high']\n",
    "df['cells'] = pd.Categorical(df['cells'], categories=cat_order, ordered=True)"
   ]
  },
  {
   "cell_type": "code",
   "execution_count": 7,
   "id": "a163d9d1",
   "metadata": {
    "execution": {
     "iopub.execute_input": "2022-03-25T17:34:02.137726Z",
     "iopub.status.busy": "2022-03-25T17:34:02.132432Z",
     "iopub.status.idle": "2022-03-25T17:34:02.626993Z",
     "shell.execute_reply": "2022-03-25T17:34:02.627752Z"
    }
   },
   "outputs": [
    {
     "data": {
      "image/png": "[encoded data removed]",
      "text/plain": [
       "<Figure size 300x300 with 1 Axes>"
      ]
     },
     "metadata": {},
     "output_type": "display_data"
    },
    {
     "data": {
      "text/plain": [
       "<ggplot: (8766745368061)>"
      ]
     },
     "execution_count": 7,
     "metadata": {},
     "output_type": "execute_result"
    }
   ],
   "source": [
    "(\n",
    "    ggplot(df) +\n",
    "    aes(x=\"relative MFI\", y=\"relative RLU/ul\") +\n",
    "    geom_point(size=2) +\n",
    "    geom_text(\n",
    "        mapping=aes(label='cells'),\n",
    "        ha='left',\n",
    "        adjust_text={'expand_points': (1.2, 1.2)},\n",
    "        size=9\n",
    "              ) +   \n",
    "    theme_classic() +\n",
    "    theme(figure_size=(3,3)) +\n",
    "    labs(\n",
    "        title = \"Infectivity vs ACE2 Expression\",\n",
    "        x=\"Relative ACE2 expression\",\n",
    "        y=\"Relative infectivity\") +\n",
    "    scale_x_log10()\n",
    ")\n"
   ]
  },
  {
   "cell_type": "code",
   "execution_count": 8,
   "id": "4342d1c8",
   "metadata": {
    "execution": {
     "iopub.execute_input": "2022-03-25T17:34:02.702236Z",
     "iopub.status.busy": "2022-03-25T17:34:02.688103Z",
     "iopub.status.idle": "2022-03-25T17:34:03.131427Z",
     "shell.execute_reply": "2022-03-25T17:34:03.132071Z"
    }
   },
   "outputs": [
    {
     "data": {
      "image/png": "[encoded data removed]",
      "text/plain": [
       "<Figure size 300x251.161 with 1 Axes>"
      ]
     },
     "metadata": {},
     "output_type": "display_data"
    },
    {
     "data": {
      "text/plain": [
       "<ggplot: (8766736861943)>"
      ]
     },
     "execution_count": 8,
     "metadata": {},
     "output_type": "execute_result"
    }
   ],
   "source": [
    "# version with Y axis as log scale\n",
    "(\n",
    "    ggplot(df)+\n",
    "    aes(x=\"relative MFI\", y=\"relative RLU/ul\") +\n",
    "    geom_point(size=2) +\n",
    "    geom_text(\n",
    "        mapping=aes(label='cells'),\n",
    "        ha='left',\n",
    "        adjust_text={'expand_points': (1.2, 1.2)},\n",
    "        size=9\n",
    "              ) +\n",
    "    theme_classic()+\n",
    "    theme(figure_size=(3,3)) +\n",
    "    labs(\n",
    "        title = \"Infectivity vs ACE2 Expression\",\n",
    "        x=\"Relative ACE2 expression\",\n",
    "        y=\"Relative infectivity\"\n",
    "    ) +\n",
    "    scale_x_log10() +\n",
    "    scale_y_log10() +\n",
    "    coord_fixed(ratio = 1)\n",
    ")\n"
   ]
  },
  {
   "cell_type": "code",
   "execution_count": null,
   "id": "88e49814",
   "metadata": {},
   "outputs": [],
   "source": []
  }
 ],
 "metadata": {
  "kernelspec": {
   "display_name": "Python 3 (ipykernel)",
   "language": "python",
   "name": "python3"
  },
  "language_info": {
   "codemirror_mode": {
    "name": "ipython",
    "version": 3
   },
   "file_extension": ".py",
   "mimetype": "text/x-python",
   "name": "python",
   "nbconvert_exporter": "python",
   "pygments_lexer": "ipython3",
   "version": "3.8.12"
  }
 },
 "nbformat": 4,
 "nbformat_minor": 5
}
