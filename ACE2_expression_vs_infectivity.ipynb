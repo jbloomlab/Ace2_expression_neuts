{
 "cells": [
  {
   "cell_type": "markdown",
   "id": "72bc130e-b775-4c1f-8b92-c90383c1c709",
   "metadata": {},
   "source": [
    "# Plot ACE2 expression vs Infectivity\n",
    "\n",
    "This notebook plots pseudovirus infectivity in HEK293T clones expressing different levels of ACE2."
   ]
  },
  {
   "cell_type": "code",
   "execution_count": 1,
   "id": "b67645d8",
   "metadata": {
    "execution": {
     "iopub.execute_input": "2022-04-01T17:53:05.313897Z",
     "iopub.status.busy": "2022-04-01T17:53:05.312903Z",
     "iopub.status.idle": "2022-04-01T17:53:07.656881Z",
     "shell.execute_reply": "2022-04-01T17:53:07.655839Z"
    }
   },
   "outputs": [],
   "source": [
    "import os\n",
    "import warnings\n",
    "\n",
    "import pandas as pd\n",
    "from plotnine import *\n",
    "\n",
    "import yaml"
   ]
  },
  {
   "cell_type": "code",
   "execution_count": 2,
   "id": "276a115d",
   "metadata": {
    "execution": {
     "iopub.execute_input": "2022-04-01T17:53:07.661886Z",
     "iopub.status.busy": "2022-04-01T17:53:07.661329Z",
     "iopub.status.idle": "2022-04-01T17:53:07.663923Z",
     "shell.execute_reply": "2022-04-01T17:53:07.663438Z"
    }
   },
   "outputs": [],
   "source": [
    "warnings.simplefilter('ignore')"
   ]
  },
  {
   "cell_type": "code",
   "execution_count": 3,
   "id": "4a84d6ec",
   "metadata": {
    "execution": {
     "iopub.execute_input": "2022-04-01T17:53:07.671953Z",
     "iopub.status.busy": "2022-04-01T17:53:07.667990Z",
     "iopub.status.idle": "2022-04-01T17:53:07.673933Z",
     "shell.execute_reply": "2022-04-01T17:53:07.674411Z"
    }
   },
   "outputs": [],
   "source": [
    "with open('config.yaml') as f:\n",
    "    config = yaml.safe_load(f)"
   ]
  },
  {
   "cell_type": "code",
   "execution_count": 4,
   "id": "88f34d8b",
   "metadata": {
    "execution": {
     "iopub.execute_input": "2022-04-01T17:53:07.678842Z",
     "iopub.status.busy": "2022-04-01T17:53:07.678223Z",
     "iopub.status.idle": "2022-04-01T17:53:07.680802Z",
     "shell.execute_reply": "2022-04-01T17:53:07.680247Z"
    }
   },
   "outputs": [],
   "source": [
    "resultsdir=config['resultsdir']\n",
    "os.makedirs(resultsdir, exist_ok=True)"
   ]
  },
  {
   "cell_type": "code",
   "execution_count": 5,
   "id": "4fc07f35",
   "metadata": {
    "execution": {
     "iopub.execute_input": "2022-04-01T17:53:07.685324Z",
     "iopub.status.busy": "2022-04-01T17:53:07.684756Z",
     "iopub.status.idle": "2022-04-01T17:53:07.701473Z",
     "shell.execute_reply": "2022-04-01T17:53:07.700750Z"
    }
   },
   "outputs": [
    {
     "data": {
      "text/html": [
       "<div>\n",
       "<style scoped>\n",
       "    .dataframe tbody tr th:only-of-type {\n",
       "        vertical-align: middle;\n",
       "    }\n",
       "\n",
       "    .dataframe tbody tr th {\n",
       "        vertical-align: top;\n",
       "    }\n",
       "\n",
       "    .dataframe thead th {\n",
       "        text-align: right;\n",
       "    }\n",
       "</style>\n",
       "<table border=\"1\" class=\"dataframe\">\n",
       "  <thead>\n",
       "    <tr style=\"text-align: right;\">\n",
       "      <th></th>\n",
       "      <th>cells</th>\n",
       "      <th>MFI (mean)</th>\n",
       "      <th>RLU/ul</th>\n",
       "      <th>relative MFI</th>\n",
       "      <th>relative RLU/ul</th>\n",
       "    </tr>\n",
       "  </thead>\n",
       "  <tbody>\n",
       "    <tr>\n",
       "      <th>0</th>\n",
       "      <td>high</td>\n",
       "      <td>49768</td>\n",
       "      <td>307650.78400</td>\n",
       "      <td>1.000000</td>\n",
       "      <td>1.000000</td>\n",
       "    </tr>\n",
       "    <tr>\n",
       "      <th>1</th>\n",
       "      <td>medium</td>\n",
       "      <td>5130</td>\n",
       "      <td>160380.60100</td>\n",
       "      <td>0.103078</td>\n",
       "      <td>0.521307</td>\n",
       "    </tr>\n",
       "    <tr>\n",
       "      <th>2</th>\n",
       "      <td>low</td>\n",
       "      <td>2929</td>\n",
       "      <td>105836.51500</td>\n",
       "      <td>0.058853</td>\n",
       "      <td>0.344015</td>\n",
       "    </tr>\n",
       "    <tr>\n",
       "      <th>3</th>\n",
       "      <td>very low</td>\n",
       "      <td>1481</td>\n",
       "      <td>37566.13167</td>\n",
       "      <td>0.029758</td>\n",
       "      <td>0.122106</td>\n",
       "    </tr>\n",
       "    <tr>\n",
       "      <th>4</th>\n",
       "      <td>vero</td>\n",
       "      <td>1340</td>\n",
       "      <td>NaN</td>\n",
       "      <td>0.026925</td>\n",
       "      <td>NaN</td>\n",
       "    </tr>\n",
       "  </tbody>\n",
       "</table>\n",
       "</div>"
      ],
      "text/plain": [
       "      cells  MFI (mean)        RLU/ul  relative MFI  relative RLU/ul\n",
       "0      high       49768  307650.78400      1.000000         1.000000\n",
       "1    medium        5130  160380.60100      0.103078         0.521307\n",
       "2       low        2929  105836.51500      0.058853         0.344015\n",
       "3  very low        1481   37566.13167      0.029758         0.122106\n",
       "4      vero        1340           NaN      0.026925              NaN"
      ]
     },
     "execution_count": 5,
     "metadata": {},
     "output_type": "execute_result"
    }
   ],
   "source": [
    "df = pd.read_csv(config['ACE2_expression_df'])\n",
    "df"
   ]
  },
  {
   "cell_type": "code",
   "execution_count": 6,
   "id": "5254d667",
   "metadata": {
    "execution": {
     "iopub.execute_input": "2022-04-01T17:53:07.707084Z",
     "iopub.status.busy": "2022-04-01T17:53:07.706332Z",
     "iopub.status.idle": "2022-04-01T17:53:07.708847Z",
     "shell.execute_reply": "2022-04-01T17:53:07.708155Z"
    }
   },
   "outputs": [
    {
     "data": {
      "text/html": [
       "<div>\n",
       "<style scoped>\n",
       "    .dataframe tbody tr th:only-of-type {\n",
       "        vertical-align: middle;\n",
       "    }\n",
       "\n",
       "    .dataframe tbody tr th {\n",
       "        vertical-align: top;\n",
       "    }\n",
       "\n",
       "    .dataframe thead th {\n",
       "        text-align: right;\n",
       "    }\n",
       "</style>\n",
       "<table border=\"1\" class=\"dataframe\">\n",
       "  <thead>\n",
       "    <tr style=\"text-align: right;\">\n",
       "      <th></th>\n",
       "      <th>cells</th>\n",
       "      <th>MFI (mean)</th>\n",
       "      <th>RLU/ul</th>\n",
       "      <th>relative MFI</th>\n",
       "      <th>relative RLU/ul</th>\n",
       "    </tr>\n",
       "  </thead>\n",
       "  <tbody>\n",
       "    <tr>\n",
       "      <th>0</th>\n",
       "      <td>high</td>\n",
       "      <td>49768</td>\n",
       "      <td>307650.78400</td>\n",
       "      <td>1.000000</td>\n",
       "      <td>1.000000</td>\n",
       "    </tr>\n",
       "    <tr>\n",
       "      <th>1</th>\n",
       "      <td>medium</td>\n",
       "      <td>5130</td>\n",
       "      <td>160380.60100</td>\n",
       "      <td>0.103078</td>\n",
       "      <td>0.521307</td>\n",
       "    </tr>\n",
       "    <tr>\n",
       "      <th>2</th>\n",
       "      <td>low</td>\n",
       "      <td>2929</td>\n",
       "      <td>105836.51500</td>\n",
       "      <td>0.058853</td>\n",
       "      <td>0.344015</td>\n",
       "    </tr>\n",
       "    <tr>\n",
       "      <th>3</th>\n",
       "      <td>very low</td>\n",
       "      <td>1481</td>\n",
       "      <td>37566.13167</td>\n",
       "      <td>0.029758</td>\n",
       "      <td>0.122106</td>\n",
       "    </tr>\n",
       "    <tr>\n",
       "      <th>4</th>\n",
       "      <td>vero</td>\n",
       "      <td>1340</td>\n",
       "      <td>NaN</td>\n",
       "      <td>0.026925</td>\n",
       "      <td>NaN</td>\n",
       "    </tr>\n",
       "  </tbody>\n",
       "</table>\n",
       "</div>"
      ],
      "text/plain": [
       "      cells  MFI (mean)        RLU/ul  relative MFI  relative RLU/ul\n",
       "0      high       49768  307650.78400      1.000000         1.000000\n",
       "1    medium        5130  160380.60100      0.103078         0.521307\n",
       "2       low        2929  105836.51500      0.058853         0.344015\n",
       "3  very low        1481   37566.13167      0.029758         0.122106\n",
       "4      vero        1340           NaN      0.026925              NaN"
      ]
     },
     "execution_count": 6,
     "metadata": {},
     "output_type": "execute_result"
    }
   ],
   "source": [
    "cat_order = ['vero', 'very low', 'low', 'medium', 'high']\n",
    "df['cells'] = pd.Categorical(df['cells'], categories=cat_order, ordered=True)\n",
    "\n",
    "df"
   ]
  },
  {
   "cell_type": "code",
   "execution_count": 19,
   "id": "a163d9d1",
   "metadata": {
    "execution": {
     "iopub.execute_input": "2022-04-01T17:53:07.739393Z",
     "iopub.status.busy": "2022-04-01T17:53:07.722779Z",
     "iopub.status.idle": "2022-04-01T17:53:08.239148Z",
     "shell.execute_reply": "2022-04-01T17:53:08.238634Z"
    }
   },
   "outputs": [
    {
     "data": {
      "image/png": "[encoded data removed]",
      "text/plain": [
       "<Figure size 300x300 with 1 Axes>"
      ]
     },
     "metadata": {},
     "output_type": "display_data"
    }
   ],
   "source": [
    "ACE2_infectivity=(\n",
    "    ggplot(df) +\n",
    "    aes(x=\"relative MFI\", y=\"relative RLU/ul\") +\n",
    "    geom_point(size=2) +\n",
    "    geom_text(\n",
    "        mapping=aes(label='cells'),\n",
    "        ha='left',\n",
    "        adjust_text={'expand_points': (1.2, 1.2)},\n",
    "        size=9\n",
    "              ) +   \n",
    "    theme_classic() +\n",
    "    theme(figure_size=(3,3)) +\n",
    "    labs(\n",
    "        title = \"Infectivity vs ACE2 Expression\",\n",
    "        x=\"Relative ACE2 expression\",\n",
    "        y=\"Relative infectivity\") +\n",
    "    scale_x_log10()\n",
    ")\n",
    "\n",
    "ACE2_infectivity.draw()\n",
    "ACE2_infectivity.save('ACE2_infectivity.pdf')"
   ]
  },
  {
   "cell_type": "code",
   "execution_count": 25,
   "id": "4342d1c8",
   "metadata": {
    "execution": {
     "iopub.execute_input": "2022-04-01T17:53:08.279454Z",
     "iopub.status.busy": "2022-04-01T17:53:08.270713Z",
     "iopub.status.idle": "2022-04-01T17:53:08.713220Z",
     "shell.execute_reply": "2022-04-01T17:53:08.712783Z"
    }
   },
   "outputs": [
    {
     "data": {
      "image/png": "[encoded data removed]",
      "text/plain": [
       "<Figure size 300x300 with 1 Axes>"
      ]
     },
     "metadata": {},
     "output_type": "display_data"
    }
   ],
   "source": [
    "# version with Y axis as log scale\n",
    "ACE2_infectivity_log=(\n",
    "    ggplot(df)+\n",
    "    aes(x=\"relative MFI\", y=\"relative RLU/ul\") +\n",
    "    geom_point(size=2) +\n",
    "    geom_text(\n",
    "        mapping=aes(label='cells'),\n",
    "        ha='left',\n",
    "        adjust_text={'expand_points': (1.2, 1.2)},\n",
    "        size=9\n",
    "              ) +\n",
    "    theme_classic()+\n",
    "    theme(figure_size=(3,3)) +\n",
    "    labs(\n",
    "        #title = \"Infectivity vs ACE2 Expression\",\n",
    "        x=\"Relative ACE2 expression\",\n",
    "        y=\"Relative infectivity\"\n",
    "         ) +\n",
    "    scale_x_log10() +\n",
    "    scale_y_log10()\n",
    "\n",
    "                      )\n",
    "\n",
    "ACE2_infectivity_log.draw()\n",
    "ACE2_infectivity_log.save('ACE2_infectivity_log.pdf')"
   ]
  },
  {
   "cell_type": "code",
   "execution_count": 26,
   "id": "88e49814",
   "metadata": {
    "execution": {
     "iopub.execute_input": "2022-04-01T17:53:08.762325Z",
     "iopub.status.busy": "2022-04-01T17:53:08.739362Z",
     "iopub.status.idle": "2022-04-01T17:53:08.904537Z",
     "shell.execute_reply": "2022-04-01T17:53:08.905558Z"
    }
   },
   "outputs": [
    {
     "data": {
      "image/png": "[encoded data removed]",
      "text/plain": [
       "<Figure size 300x300 with 1 Axes>"
      ]
     },
     "metadata": {},
     "output_type": "display_data"
    }
   ],
   "source": [
    "#ACE2 expression plot for figure 1\n",
    "ACE2_expression=(\n",
    "    ggplot(df)+\n",
    "    aes(x=\"cells\", y=\"MFI (mean)\") +\n",
    "    geom_point(size=2) +\n",
    "    theme_classic()+\n",
    "    theme(figure_size=(3,3),\n",
    "          axis_text_x=element_text(size=10, angle=90)\n",
    "          )+\n",
    "    scale_y_log10(limits=[1,1.1e6])+\n",
    "    xlab('Cell line') +\n",
    "    scale_y_log10(limits=[1e2,1e5]) +\n",
    "    labs(y ='Mean ACE2 expression')\n",
    ")\n",
    "\n",
    "ACE2_expression.draw()\n",
    "ACE2_expression.save('ACE2_expression.pdf')"
   ]
  },
  {
   "cell_type": "code",
   "execution_count": null,
   "id": "09229958",
   "metadata": {},
   "outputs": [],
   "source": []
  },
  {
   "cell_type": "code",
   "execution_count": null,
   "id": "853e9515",
   "metadata": {},
   "outputs": [],
   "source": []
  }
 ],
 "metadata": {
  "kernelspec": {
   "display_name": "Python 3 (ipykernel)",
   "language": "python",
   "name": "python3"
  },
  "language_info": {
   "codemirror_mode": {
    "name": "ipython",
    "version": 3
   },
   "file_extension": ".py",
   "mimetype": "text/x-python",
   "name": "python",
   "nbconvert_exporter": "python",
   "pygments_lexer": "ipython3",
   "version": "3.8.12"
  }
 },
 "nbformat": 4,
 "nbformat_minor": 5
}
