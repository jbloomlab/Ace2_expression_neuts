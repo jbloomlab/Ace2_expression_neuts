{
 "cells": [
  {
   "cell_type": "markdown",
   "metadata": {},
   "source": [
    "# Analysis of SARS-COV-2 virus neutalization in different Ace2 clones"
   ]
  },
  {
   "cell_type": "markdown",
   "metadata": {},
   "source": [
    "### Set up Analysis"
   ]
  },
  {
   "cell_type": "code",
   "execution_count": 1,
   "metadata": {
    "execution": {
     "iopub.execute_input": "2022-03-25T23:15:19.616865Z",
     "iopub.status.busy": "2022-03-25T23:15:19.616198Z",
     "iopub.status.idle": "2022-03-25T23:15:22.257096Z",
     "shell.execute_reply": "2022-03-25T23:15:22.257876Z"
    }
   },
   "outputs": [],
   "source": [
    "import itertools\n",
    "import math\n",
    "import os\n",
    "import re\n",
    "import warnings\n",
    "\n",
    "from IPython.display import display, HTML\n",
    "\n",
    "import matplotlib\n",
    "import matplotlib as mpl\n",
    "import matplotlib.pyplot as plt\n",
    "import natsort\n",
    "\n",
    "import numpy as np\n",
    "import pandas as pd\n",
    "from plotnine import *\n",
    "import seaborn\n",
    "\n",
    "import neutcurve\n",
    "from neutcurve.colorschemes import CBMARKERS, CBPALETTE\n",
    "\n",
    "import yaml"
   ]
  },
  {
   "cell_type": "code",
   "execution_count": 2,
   "metadata": {
    "execution": {
     "iopub.execute_input": "2022-03-25T23:15:22.264052Z",
     "iopub.status.busy": "2022-03-25T23:15:22.263065Z",
     "iopub.status.idle": "2022-03-25T23:15:22.265037Z",
     "shell.execute_reply": "2022-03-25T23:15:22.265770Z"
    }
   },
   "outputs": [],
   "source": [
    "warnings.simplefilter('ignore')"
   ]
  },
  {
   "cell_type": "markdown",
   "metadata": {},
   "source": [
    "Read config file."
   ]
  },
  {
   "cell_type": "code",
   "execution_count": 3,
   "metadata": {
    "execution": {
     "iopub.execute_input": "2022-03-25T23:15:22.271335Z",
     "iopub.status.busy": "2022-03-25T23:15:22.270319Z",
     "iopub.status.idle": "2022-03-25T23:15:22.275513Z",
     "shell.execute_reply": "2022-03-25T23:15:22.275043Z"
    }
   },
   "outputs": [],
   "source": [
    "with open('config.yaml') as f:\n",
    "    config = yaml.safe_load(f)"
   ]
  },
  {
   "cell_type": "markdown",
   "metadata": {},
   "source": [
    "Set seaborn theme:"
   ]
  },
  {
   "cell_type": "code",
   "execution_count": 4,
   "metadata": {
    "execution": {
     "iopub.execute_input": "2022-03-25T23:15:22.280250Z",
     "iopub.status.busy": "2022-03-25T23:15:22.279736Z",
     "iopub.status.idle": "2022-03-25T23:15:22.281854Z",
     "shell.execute_reply": "2022-03-25T23:15:22.281425Z"
    }
   },
   "outputs": [],
   "source": [
    "theme_set(theme_seaborn(style='white', context='talk', font_scale=1))\n",
    "plt.style.use('seaborn-white')"
   ]
  },
  {
   "cell_type": "code",
   "execution_count": 5,
   "metadata": {
    "execution": {
     "iopub.execute_input": "2022-03-25T23:15:22.286148Z",
     "iopub.status.busy": "2022-03-25T23:15:22.285584Z",
     "iopub.status.idle": "2022-03-25T23:15:22.288081Z",
     "shell.execute_reply": "2022-03-25T23:15:22.287603Z"
    }
   },
   "outputs": [],
   "source": [
    "resultsdir=config['resultsdir']\n",
    "os.makedirs(resultsdir, exist_ok=True)"
   ]
  },
  {
   "cell_type": "markdown",
   "metadata": {},
   "source": [
    "## Read in data"
   ]
  },
  {
   "cell_type": "code",
   "execution_count": 6,
   "metadata": {
    "execution": {
     "iopub.execute_input": "2022-03-25T23:15:22.293078Z",
     "iopub.status.busy": "2022-03-25T23:15:22.292523Z",
     "iopub.status.idle": "2022-03-25T23:15:22.298708Z",
     "shell.execute_reply": "2022-03-25T23:15:22.298255Z"
    }
   },
   "outputs": [],
   "source": [
    "frac_infect = pd.read_csv(config['mAb_neuts'], index_col=0)"
   ]
  },
  {
   "cell_type": "code",
   "execution_count": 7,
   "metadata": {
    "execution": {
     "iopub.execute_input": "2022-03-25T23:15:22.305294Z",
     "iopub.status.busy": "2022-03-25T23:15:22.304739Z",
     "iopub.status.idle": "2022-03-25T23:15:22.320658Z",
     "shell.execute_reply": "2022-03-25T23:15:22.321265Z"
    }
   },
   "outputs": [
    {
     "data": {
      "text/html": [
       "<div>\n",
       "<style scoped>\n",
       "    .dataframe tbody tr th:only-of-type {\n",
       "        vertical-align: middle;\n",
       "    }\n",
       "\n",
       "    .dataframe tbody tr th {\n",
       "        vertical-align: top;\n",
       "    }\n",
       "\n",
       "    .dataframe thead th {\n",
       "        text-align: right;\n",
       "    }\n",
       "</style>\n",
       "<table border=\"1\" class=\"dataframe\">\n",
       "  <thead>\n",
       "    <tr style=\"text-align: right;\">\n",
       "      <th></th>\n",
       "      <th>serum</th>\n",
       "      <th>virus</th>\n",
       "      <th>replicate</th>\n",
       "      <th>concentration</th>\n",
       "      <th>fraction infectivity</th>\n",
       "    </tr>\n",
       "  </thead>\n",
       "  <tbody>\n",
       "    <tr>\n",
       "      <th>0</th>\n",
       "      <td>LyCoV555</td>\n",
       "      <td>very low</td>\n",
       "      <td>1</td>\n",
       "      <td>0.166667</td>\n",
       "      <td>0.000002</td>\n",
       "    </tr>\n",
       "    <tr>\n",
       "      <th>1</th>\n",
       "      <td>LyCoV555</td>\n",
       "      <td>very low</td>\n",
       "      <td>1</td>\n",
       "      <td>0.041667</td>\n",
       "      <td>0.003510</td>\n",
       "    </tr>\n",
       "    <tr>\n",
       "      <th>2</th>\n",
       "      <td>LyCoV555</td>\n",
       "      <td>very low</td>\n",
       "      <td>1</td>\n",
       "      <td>0.010417</td>\n",
       "      <td>0.099252</td>\n",
       "    </tr>\n",
       "    <tr>\n",
       "      <th>3</th>\n",
       "      <td>LyCoV555</td>\n",
       "      <td>very low</td>\n",
       "      <td>1</td>\n",
       "      <td>0.002604</td>\n",
       "      <td>0.513108</td>\n",
       "    </tr>\n",
       "    <tr>\n",
       "      <th>4</th>\n",
       "      <td>LyCoV555</td>\n",
       "      <td>very low</td>\n",
       "      <td>1</td>\n",
       "      <td>0.000651</td>\n",
       "      <td>0.850309</td>\n",
       "    </tr>\n",
       "    <tr>\n",
       "      <th>...</th>\n",
       "      <td>...</td>\n",
       "      <td>...</td>\n",
       "      <td>...</td>\n",
       "      <td>...</td>\n",
       "      <td>...</td>\n",
       "    </tr>\n",
       "    <tr>\n",
       "      <th>187</th>\n",
       "      <td>4A8</td>\n",
       "      <td>high</td>\n",
       "      <td>2</td>\n",
       "      <td>0.002604</td>\n",
       "      <td>1.140743</td>\n",
       "    </tr>\n",
       "    <tr>\n",
       "      <th>188</th>\n",
       "      <td>4A8</td>\n",
       "      <td>high</td>\n",
       "      <td>2</td>\n",
       "      <td>0.000651</td>\n",
       "      <td>0.979990</td>\n",
       "    </tr>\n",
       "    <tr>\n",
       "      <th>189</th>\n",
       "      <td>4A8</td>\n",
       "      <td>high</td>\n",
       "      <td>2</td>\n",
       "      <td>0.000163</td>\n",
       "      <td>0.950808</td>\n",
       "    </tr>\n",
       "    <tr>\n",
       "      <th>190</th>\n",
       "      <td>4A8</td>\n",
       "      <td>high</td>\n",
       "      <td>2</td>\n",
       "      <td>0.000041</td>\n",
       "      <td>0.985863</td>\n",
       "    </tr>\n",
       "    <tr>\n",
       "      <th>191</th>\n",
       "      <td>4A8</td>\n",
       "      <td>high</td>\n",
       "      <td>2</td>\n",
       "      <td>0.000010</td>\n",
       "      <td>0.923761</td>\n",
       "    </tr>\n",
       "  </tbody>\n",
       "</table>\n",
       "<p>192 rows × 5 columns</p>\n",
       "</div>"
      ],
      "text/plain": [
       "        serum     virus  replicate  concentration  fraction infectivity\n",
       "0    LyCoV555  very low          1       0.166667              0.000002\n",
       "1    LyCoV555  very low          1       0.041667              0.003510\n",
       "2    LyCoV555  very low          1       0.010417              0.099252\n",
       "3    LyCoV555  very low          1       0.002604              0.513108\n",
       "4    LyCoV555  very low          1       0.000651              0.850309\n",
       "..        ...       ...        ...            ...                   ...\n",
       "187       4A8      high          2       0.002604              1.140743\n",
       "188       4A8      high          2       0.000651              0.979990\n",
       "189       4A8      high          2       0.000163              0.950808\n",
       "190       4A8      high          2       0.000041              0.985863\n",
       "191       4A8      high          2       0.000010              0.923761\n",
       "\n",
       "[192 rows x 5 columns]"
      ]
     },
     "execution_count": 7,
     "metadata": {},
     "output_type": "execute_result"
    }
   ],
   "source": [
    "frac_infect"
   ]
  },
  {
   "cell_type": "markdown",
   "metadata": {},
   "source": [
    "## Fit Hill curve to data using [`neutcurve`](https://jbloomlab.github.io/neutcurve/)"
   ]
  },
  {
   "cell_type": "code",
   "execution_count": 8,
   "metadata": {
    "execution": {
     "iopub.execute_input": "2022-03-25T23:15:22.360317Z",
     "iopub.status.busy": "2022-03-25T23:15:22.339328Z",
     "iopub.status.idle": "2022-03-25T23:15:22.414652Z",
     "shell.execute_reply": "2022-03-25T23:15:22.415412Z"
    }
   },
   "outputs": [],
   "source": [
    "fits = neutcurve.CurveFits(frac_infect, fixbottom= False, fixtop= True)"
   ]
  },
  {
   "cell_type": "code",
   "execution_count": 9,
   "metadata": {
    "execution": {
     "iopub.execute_input": "2022-03-25T23:15:22.430494Z",
     "iopub.status.busy": "2022-03-25T23:15:22.425224Z",
     "iopub.status.idle": "2022-03-25T23:15:22.472389Z",
     "shell.execute_reply": "2022-03-25T23:15:22.472940Z"
    }
   },
   "outputs": [],
   "source": [
    "fitparams = (\n",
    "        fits.fitParams()\n",
    "        # get columns of interest\n",
    "        [['serum', 'ic50', 'ic50_bound','virus']]\n",
    "        .assign(NT50=lambda x: 1/x['ic50'])        \n",
    "        )"
   ]
  },
  {
   "cell_type": "code",
   "execution_count": 10,
   "metadata": {
    "execution": {
     "iopub.execute_input": "2022-03-25T23:15:22.478769Z",
     "iopub.status.busy": "2022-03-25T23:15:22.478078Z",
     "iopub.status.idle": "2022-03-25T23:15:22.480192Z",
     "shell.execute_reply": "2022-03-25T23:15:22.479600Z"
    }
   },
   "outputs": [],
   "source": [
    "cat_order = ['very low', 'low', 'medium', 'high']\n",
    "fitparams['virus'] = pd.Categorical(fitparams['virus'], categories=cat_order, ordered=True)"
   ]
  },
  {
   "cell_type": "code",
   "execution_count": 11,
   "metadata": {
    "execution": {
     "iopub.execute_input": "2022-03-25T23:15:22.492123Z",
     "iopub.status.busy": "2022-03-25T23:15:22.491414Z",
     "iopub.status.idle": "2022-03-25T23:15:22.494203Z",
     "shell.execute_reply": "2022-03-25T23:15:22.494764Z"
    }
   },
   "outputs": [
    {
     "data": {
      "text/html": [
       "<div>\n",
       "<style scoped>\n",
       "    .dataframe tbody tr th:only-of-type {\n",
       "        vertical-align: middle;\n",
       "    }\n",
       "\n",
       "    .dataframe tbody tr th {\n",
       "        vertical-align: top;\n",
       "    }\n",
       "\n",
       "    .dataframe thead th {\n",
       "        text-align: right;\n",
       "    }\n",
       "</style>\n",
       "<table border=\"1\" class=\"dataframe\">\n",
       "  <thead>\n",
       "    <tr style=\"text-align: right;\">\n",
       "      <th></th>\n",
       "      <th>serum</th>\n",
       "      <th>ic50</th>\n",
       "      <th>ic50_bound</th>\n",
       "      <th>virus</th>\n",
       "      <th>NT50</th>\n",
       "    </tr>\n",
       "  </thead>\n",
       "  <tbody>\n",
       "    <tr>\n",
       "      <th>0</th>\n",
       "      <td>LyCoV555</td>\n",
       "      <td>0.002520</td>\n",
       "      <td>interpolated</td>\n",
       "      <td>very low</td>\n",
       "      <td>396.764998</td>\n",
       "    </tr>\n",
       "    <tr>\n",
       "      <th>1</th>\n",
       "      <td>LyCoV555</td>\n",
       "      <td>0.003043</td>\n",
       "      <td>interpolated</td>\n",
       "      <td>low</td>\n",
       "      <td>328.656981</td>\n",
       "    </tr>\n",
       "    <tr>\n",
       "      <th>2</th>\n",
       "      <td>LyCoV555</td>\n",
       "      <td>0.004048</td>\n",
       "      <td>interpolated</td>\n",
       "      <td>medium</td>\n",
       "      <td>247.026726</td>\n",
       "    </tr>\n",
       "    <tr>\n",
       "      <th>3</th>\n",
       "      <td>LyCoV555</td>\n",
       "      <td>0.015075</td>\n",
       "      <td>interpolated</td>\n",
       "      <td>high</td>\n",
       "      <td>66.334383</td>\n",
       "    </tr>\n",
       "    <tr>\n",
       "      <th>4</th>\n",
       "      <td>S309</td>\n",
       "      <td>0.011144</td>\n",
       "      <td>interpolated</td>\n",
       "      <td>very low</td>\n",
       "      <td>89.731906</td>\n",
       "    </tr>\n",
       "    <tr>\n",
       "      <th>5</th>\n",
       "      <td>S309</td>\n",
       "      <td>0.022513</td>\n",
       "      <td>interpolated</td>\n",
       "      <td>low</td>\n",
       "      <td>44.419146</td>\n",
       "    </tr>\n",
       "    <tr>\n",
       "      <th>6</th>\n",
       "      <td>S309</td>\n",
       "      <td>0.031744</td>\n",
       "      <td>interpolated</td>\n",
       "      <td>medium</td>\n",
       "      <td>31.501638</td>\n",
       "    </tr>\n",
       "    <tr>\n",
       "      <th>7</th>\n",
       "      <td>S309</td>\n",
       "      <td>6.000000</td>\n",
       "      <td>lower</td>\n",
       "      <td>high</td>\n",
       "      <td>0.166667</td>\n",
       "    </tr>\n",
       "    <tr>\n",
       "      <th>8</th>\n",
       "      <td>4A8</td>\n",
       "      <td>0.005148</td>\n",
       "      <td>interpolated</td>\n",
       "      <td>very low</td>\n",
       "      <td>194.232873</td>\n",
       "    </tr>\n",
       "    <tr>\n",
       "      <th>9</th>\n",
       "      <td>4A8</td>\n",
       "      <td>0.006607</td>\n",
       "      <td>interpolated</td>\n",
       "      <td>low</td>\n",
       "      <td>151.363779</td>\n",
       "    </tr>\n",
       "    <tr>\n",
       "      <th>10</th>\n",
       "      <td>4A8</td>\n",
       "      <td>0.007905</td>\n",
       "      <td>interpolated</td>\n",
       "      <td>medium</td>\n",
       "      <td>126.494615</td>\n",
       "    </tr>\n",
       "    <tr>\n",
       "      <th>11</th>\n",
       "      <td>4A8</td>\n",
       "      <td>0.166667</td>\n",
       "      <td>lower</td>\n",
       "      <td>high</td>\n",
       "      <td>6.000000</td>\n",
       "    </tr>\n",
       "  </tbody>\n",
       "</table>\n",
       "</div>"
      ],
      "text/plain": [
       "       serum      ic50    ic50_bound     virus        NT50\n",
       "0   LyCoV555  0.002520  interpolated  very low  396.764998\n",
       "1   LyCoV555  0.003043  interpolated       low  328.656981\n",
       "2   LyCoV555  0.004048  interpolated    medium  247.026726\n",
       "3   LyCoV555  0.015075  interpolated      high   66.334383\n",
       "4       S309  0.011144  interpolated  very low   89.731906\n",
       "5       S309  0.022513  interpolated       low   44.419146\n",
       "6       S309  0.031744  interpolated    medium   31.501638\n",
       "7       S309  6.000000         lower      high    0.166667\n",
       "8        4A8  0.005148  interpolated  very low  194.232873\n",
       "9        4A8  0.006607  interpolated       low  151.363779\n",
       "10       4A8  0.007905  interpolated    medium  126.494615\n",
       "11       4A8  0.166667         lower      high    6.000000"
      ]
     },
     "execution_count": 11,
     "metadata": {},
     "output_type": "execute_result"
    }
   ],
   "source": [
    "fitparams"
   ]
  },
  {
   "cell_type": "code",
   "execution_count": 12,
   "metadata": {
    "execution": {
     "iopub.execute_input": "2022-03-25T23:15:22.500242Z",
     "iopub.status.busy": "2022-03-25T23:15:22.499543Z",
     "iopub.status.idle": "2022-03-25T23:15:22.501672Z",
     "shell.execute_reply": "2022-03-25T23:15:22.501087Z"
    }
   },
   "outputs": [],
   "source": [
    "fitparams['ic50_is_bound'] = fitparams['ic50_bound'].apply(lambda x: True if x!='interpolated' else False)\n"
   ]
  },
  {
   "cell_type": "markdown",
   "metadata": {},
   "source": [
    "## Plot neut curves for mAbs"
   ]
  },
  {
   "cell_type": "code",
   "execution_count": 13,
   "metadata": {
    "execution": {
     "iopub.execute_input": "2022-03-25T23:15:22.526506Z",
     "iopub.status.busy": "2022-03-25T23:15:22.517477Z",
     "iopub.status.idle": "2022-03-25T23:15:23.442370Z",
     "shell.execute_reply": "2022-03-25T23:15:23.443154Z"
    }
   },
   "outputs": [
    {
     "data": {
      "image/png": "[encoded data removed]",
      "text/plain": [
       "<Figure size 720x234 with 4 Axes>"
      ]
     },
     "metadata": {},
     "output_type": "display_data"
    }
   ],
   "source": [
    "#not sure about color, but at least I managed to change them! When I indicate colors this way, does it pick from the cbpalatte?\n",
    "fig, axes = fits.plotSera(\n",
    "                          viruses=['very low', 'low', 'medium', 'high'],\n",
    "                          xlabel='concentration (ug/ml)',\n",
    "                          ncol=6,\n",
    "                          widthscale=1,\n",
    "                          heightscale=1,\n",
    "                          titlesize=14, labelsize=14, ticksize=11, legendfontsize=12, yticklocs=[0,0.5,1],\n",
    "                          markersize=5, linewidth=1,\n",
    "                          virus_to_color_marker={\n",
    "                              'very low': ('#882255', 'o'),\n",
    "                              'low': ('#44AA99', '^'),\n",
    "                              'medium': ('#DDCC77', 's'),\n",
    "                              'high': ('#332288', 'd')},\n",
    "                          sharex=True\n",
    "                         )"
   ]
  },
  {
   "cell_type": "code",
   "execution_count": null,
   "metadata": {},
   "outputs": [],
   "source": []
  }
 ],
 "metadata": {
  "kernelspec": {
   "display_name": "Python 3 (ipykernel)",
   "language": "python",
   "name": "python3"
  },
  "language_info": {
   "codemirror_mode": {
    "name": "ipython",
    "version": 3
   },
   "file_extension": ".py",
   "mimetype": "text/x-python",
   "name": "python",
   "nbconvert_exporter": "python",
   "pygments_lexer": "ipython3",
   "version": "3.8.12"
  }
 },
 "nbformat": 4,
 "nbformat_minor": 4
}
