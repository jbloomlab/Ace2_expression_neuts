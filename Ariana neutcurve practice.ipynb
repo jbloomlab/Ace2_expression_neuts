{
 "cells": [
  {
   "cell_type": "code",
   "execution_count": 1,
   "id": "d96e5a2d",
   "metadata": {},
   "outputs": [],
   "source": [
    "from neutcurve import HillCurve"
   ]
  },
  {
   "cell_type": "code",
   "execution_count": 2,
   "id": "5ad14a5e",
   "metadata": {},
   "outputs": [
    {
     "data": {
      "text/plain": [
       "['__class__',\n",
       " '__delattr__',\n",
       " '__dict__',\n",
       " '__dir__',\n",
       " '__doc__',\n",
       " '__eq__',\n",
       " '__format__',\n",
       " '__ge__',\n",
       " '__getattribute__',\n",
       " '__gt__',\n",
       " '__hash__',\n",
       " '__init__',\n",
       " '__init_subclass__',\n",
       " '__le__',\n",
       " '__lt__',\n",
       " '__module__',\n",
       " '__ne__',\n",
       " '__new__',\n",
       " '__reduce__',\n",
       " '__reduce_ex__',\n",
       " '__repr__',\n",
       " '__setattr__',\n",
       " '__sizeof__',\n",
       " '__str__',\n",
       " '__subclasshook__',\n",
       " '__weakref__',\n",
       " '_evaluate_log',\n",
       " '_fit_curve',\n",
       " '_minimize_fit',\n",
       " 'dataframe',\n",
       " 'evaluate',\n",
       " 'fracinfectivity',\n",
       " 'ic50',\n",
       " 'ic50_bound',\n",
       " 'ic50_stdev',\n",
       " 'ic50_str',\n",
       " 'icXX',\n",
       " 'icXX_bound',\n",
       " 'icXX_str',\n",
       " 'plot']"
      ]
     },
     "execution_count": 2,
     "metadata": {},
     "output_type": "execute_result"
    }
   ],
   "source": [
    "dir(HillCurve)"
   ]
  },
  {
   "cell_type": "code",
   "execution_count": 3,
   "id": "81879351",
   "metadata": {},
   "outputs": [
    {
     "name": "stdout",
     "output_type": "stream",
     "text": [
      "A fitted Hill curve, optionally with free baselines.\n",
      "\n",
      "    Fits :math:`f\\left(c\\right) = b + \\frac{t - b}{1 + \\left(c/m\\right)^s}`\n",
      "    where :math:`f\\left(c\\right)` is the fraction infectivity remaining\n",
      "    at concentration :math:`c`, :math:`m` is the midpoint\n",
      "    of the neutralization curve, :math:`t` is the top\n",
      "    value (e.g., 1), :math:`b` is the bottom value (e.g., 0),\n",
      "    and :math:`s` is the slope of the curve. Because\n",
      "    :math:`f\\left(c\\right)` is the fraction infectivity remaining, we expect\n",
      "    :math:`f\\left(c\\right)` to get smaller as :math:`c` gets larger.\n",
      "    This should lead us to fit :math:`s > 0`.\n",
      "\n",
      "    When :math:`t = 1` and :math:`b = 0`, this equation is identical to the\n",
      "    `Hill curve <https://en.wikipedia.org/wiki/Hill_equation_(biochemistry)>`_,\n",
      "    except that we are calculating the fraction **unbound** rather than\n",
      "    the fraction bound.\n",
      "\n",
      "    You may want to fit the fraction neutralized rather than the fraction\n",
      "    infectivity. In that case, set `infectivity_or_neutralized='neutralized'\n",
      "    and then the equation that is fit will\n",
      "    be :math:`f\\left(c\\right) = t + \\frac{b - t}{1 + \\left(c/m\\right)^s}`,\n",
      "    which means that `f\\left(c\\right)` gets larger rather than smaller\n",
      "    as :math:`c` increases.\n",
      "\n",
      "    Args:\n",
      "        `cs` (array-like)\n",
      "            Concentrations of antibody / serum.\n",
      "        `fs` (array-like)\n",
      "            Fraction infectivity remaining at each concentration.\n",
      "        `infectivity_or_neutralized` ({'infectivity', 'neutralized'})\n",
      "            Fit the fraction infectivity (:math:`f\\left(c\\right)` decreases as\n",
      "            :math:`c` increases) or neutralized (:math:`f\\left(c\\right)`\n",
      "            increases as :math:`c` increases). See equations above.\n",
      "        `fs_stderr` (`None` or array-like)\n",
      "            If not `None`, standard errors on `fs`.\n",
      "        `fixbottom` (bool or a float)\n",
      "            If `True`, fix bottom of curve to to this value; otherwise fit.\n",
      "        `fixtop` (`False` or a float)\n",
      "            If `True`, fix top of curve to this value; otherwise fit.\n",
      "        `fitlogc` (bool)\n",
      "            Do we do the actual fitting on the concentrations or log\n",
      "            concentrations? Gives equivalent results in principle, but\n",
      "            fitting to log concentrations may be more efficient in pratice.\n",
      "        `use_stderr_for_fit` (bool)\n",
      "            Do we use `fs_stderr` for the fitting, or just for plotting?\n",
      "            Usually it is a good idea to set to `False` and **not** use\n",
      "            for fitting if you only have a few replicates, and the standard\n",
      "            error is often not that accurate and so will weight some\n",
      "            points much more than others in a way that may not be\n",
      "            justified.\n",
      "\n",
      "    Attributes:\n",
      "        `cs` (numpy array)\n",
      "            Concentrations, sorted from low to high.\n",
      "        `fs` (numpy array)\n",
      "            Fraction infectivity, ordered to match sorted concentrations.\n",
      "        `fs_stderr` (numpy array or `None`)\n",
      "            Standard errors on `fs`.\n",
      "        `bottom` (float)\n",
      "            Bottom of curve, :math:`b` in equation above.\n",
      "        `top` (float)\n",
      "            Top of curve, :math:`t` in equation above.\n",
      "        `midpoint` (float)\n",
      "            Midpoint of curve, :math:`m` in equation above. Note\n",
      "            that the midpoint may **not** be the same as the :meth:`ic50`\n",
      "            if :math:`t \\ne 1` or :math:`b \\ne 0`.\n",
      "        `slope` (float)\n",
      "            Hill slope of curve, :math:`s` in equation above.\n",
      "        `params_stdev` (dict or `None`)\n",
      "            If standard deviations can be estimated on the fit\n",
      "            parameters, keyed by 'bottom', 'top', 'midpoint',\n",
      "            and 'slope' and gives standard erorr on each. Note if\n",
      "            you have replicates we recommend fitting those separately\n",
      "            and taking standard error rather than using fit stdev.\n",
      "\n",
      "    Use the :meth:`ic50` method to get the fitted IC50.\n",
      "    You can use :meth:`ic50_stdev` to get the estimated standard\n",
      "    deviation on the IC50, although if you have multiple replicates\n",
      "    you may be better off just fitting to each separately and\n",
      "    then taking standard error of the individual IC50s.\n",
      "\n",
      "    Here are some examples. First, we import the necessary modules:\n",
      "\n",
      "    .. nbplot::\n",
      "\n",
      "        >>> import numpy\n",
      "        >>>\n",
      "        >>> from neutcurve import HillCurve\n",
      "        >>> from neutcurve.colorschemes import CBPALETTE\n",
      "\n",
      "    Now simulate some data:\n",
      "\n",
      "    .. nbplot::\n",
      "\n",
      "        >>> m = 0.03\n",
      "        >>> s = 1.9\n",
      "        >>> b = 0.1\n",
      "        >>> t = 1.0\n",
      "        >>> cs = [0.002 * 2**x for x in range(9)]\n",
      "        >>> fs = [HillCurve.evaluate(c, m, s, b, t) for c in cs]\n",
      "\n",
      "    Now fit to these data, and confirm that the fitted values\n",
      "    are close to the ones used for the simulation:\n",
      "\n",
      "    .. nbplot::\n",
      "\n",
      "        >>> neut = HillCurve(cs, fs, fixbottom=False)\n",
      "        >>> numpy.allclose(neut.midpoint, m)\n",
      "        True\n",
      "        >>> numpy.allclose(neut.slope, s, atol=1e-4)\n",
      "        True\n",
      "        >>> numpy.allclose(neut.top, t)\n",
      "        True\n",
      "        >>> numpy.allclose(neut.bottom, b)\n",
      "        True\n",
      "        >>> for key, val in neut.params_stdev.items():\n",
      "        ...     print(f\"{key} = {val:.2g}\")\n",
      "        midpoint = 0.062\n",
      "        slope = 6.3\n",
      "        top = 0\n",
      "        bottom = 0.73\n",
      "        >>> print(f\"IC50: {neut.ic50():.3f} +/- {neut.ic50_stdev():.3f}\")\n",
      "        IC50: 0.034 +/- 0.070\n",
      "\n",
      "    Since we fit the curve to simulated data where the bottom was\n",
      "    0.1 rather than 0, the midpoint and IC50 are different. Specifically,\n",
      "    the IC50 is larger than the midpoint as you have to go past the midpoint\n",
      "    to get down to 0.5 fraction infectivity:\n",
      "\n",
      "    .. nbplot::\n",
      "\n",
      "        >>> neut.ic50() > neut.midpoint\n",
      "        True\n",
      "        >>> numpy.allclose(neut.ic50(), 0.0337385586)\n",
      "        True\n",
      "        >>> numpy.allclose(0.5, neut.fracinfectivity(neut.ic50()))\n",
      "        True\n",
      "        >>> neut.fracinfectivity(neut.midpoint) > 0.5\n",
      "        True\n",
      "\n",
      "    Now here is an example where we constrain both the top\n",
      "    and the bottom (to 1 and 0, respectively) and fit\n",
      "    the curve. Now the midpoint and IC50 are the same:\n",
      "\n",
      "    .. nbplot::\n",
      "\n",
      "        >>> b2 = 0\n",
      "        >>> t2 = 1\n",
      "        >>> fs2 = [HillCurve.evaluate(c, m, s, b2, t2) for c in cs]\n",
      "        >>> neut2 = HillCurve(cs, fs2)\n",
      "        >>> numpy.allclose(neut2.midpoint, m)\n",
      "        True\n",
      "        >>> numpy.allclose(neut2.ic50(), m)\n",
      "        True\n",
      "\n",
      "    Now let's fit to concentrations that are all **less**\n",
      "    than the midpoint, so that we never get to complete neutralization.\n",
      "    The estimated IC50 is unreliable, and so will be returned as `None` unless\n",
      "    we call :meth:`ic50` with `method` set to 'bound':\n",
      "\n",
      "    .. nbplot::\n",
      "\n",
      "        >>> cs3 = [1e-5 * 2**x for x in range(7)]\n",
      "        >>> (cs3[-1] < m)\n",
      "        True\n",
      "        >>> fs3 = [HillCurve.evaluate(c, m, s, b2, t2) for c in cs3]\n",
      "        >>> neut3 = HillCurve(cs3, fs3)\n",
      "        >>> neut3.ic50() is None\n",
      "        True\n",
      "        >>> numpy.allclose(neut3.ic50(method='bound'), cs3[-1])\n",
      "        True\n",
      "\n",
      "    Note that we can determine if the IC50 is interpolated or an upper\n",
      "    or lower bound using :meth:`ic50_bound`, and get a nice string\n",
      "    using :meth:`ic50_str`:\n",
      "\n",
      "    .. nbplot::\n",
      "\n",
      "        >>> neut.ic50_bound()\n",
      "        'interpolated'\n",
      "        >>> neut3.ic50_bound()\n",
      "        'lower'\n",
      "        >>> neut.ic50_str()\n",
      "        '0.0337'\n",
      "        >>> neut3.ic50_str()\n",
      "        '>0.00064'\n",
      "\n",
      "    We can use the :meth:`dataframe` method to get the measured\n",
      "    data and fit data at selected points. First, we do this\n",
      "    just at measured points:\n",
      "\n",
      "    .. nbplot::\n",
      "\n",
      "        >>> neut.dataframe('measured').round(3)\n",
      "           concentration  measurement    fit  stderr\n",
      "        0          0.002        0.995  0.995     NaN\n",
      "        1          0.004        0.981  0.981     NaN\n",
      "        2          0.008        0.932  0.932     NaN\n",
      "        3          0.016        0.791  0.791     NaN\n",
      "        4          0.032        0.522  0.522     NaN\n",
      "        5          0.064        0.272  0.272     NaN\n",
      "        6          0.128        0.154  0.154     NaN\n",
      "        7          0.256        0.115  0.115     NaN\n",
      "        8          0.512        0.104  0.104     NaN\n",
      "\n",
      "    Then we add in one more point:\n",
      "\n",
      "    .. nbplot::\n",
      "\n",
      "        >>> neut.dataframe([0.6]).round(3)\n",
      "           concentration  measurement    fit  stderr\n",
      "        0          0.002        0.995  0.995     NaN\n",
      "        1          0.004        0.981  0.981     NaN\n",
      "        2          0.008        0.932  0.932     NaN\n",
      "        3          0.016        0.791  0.791     NaN\n",
      "        4          0.032        0.522  0.522     NaN\n",
      "        5          0.064        0.272  0.272     NaN\n",
      "        6          0.128        0.154  0.154     NaN\n",
      "        7          0.256        0.115  0.115     NaN\n",
      "        8          0.512        0.104  0.104     NaN\n",
      "        9          0.600          NaN  0.103     NaN\n",
      "\n",
      "    In reality, you'd typically just call :meth:`dataframe` with\n",
      "    the default argument of 'auto' to get a good range to plot.\n",
      "    This is done if we call the :meth:`HillCurve.plot` method:\n",
      "\n",
      "    .. nbplot::\n",
      "\n",
      "        >>> fig, ax = neut.plot()\n",
      "\n",
      "    Finally, we confirm that we get the same result regardless\n",
      "    of whether we fit using the concentrations in linear or\n",
      "    log space:\n",
      "\n",
      "    .. nbplot::\n",
      "\n",
      "        >>> neut_linear = HillCurve(cs, fs, fitlogc=False, fixbottom=False)\n",
      "        >>> all(numpy.allclose(getattr(neut, attr), getattr(neut_linear, attr))\n",
      "        ...     for attr in ['top', 'bottom', 'slope', 'midpoint'])\n",
      "        True\n",
      "\n",
      "    Demonstrate :meth:`HillCurve.icXX`:\n",
      "\n",
      "    >>> neut.icXX(0.95) is None\n",
      "    True\n",
      "    >>> neut.icXX_str(0.95)\n",
      "    '>0.512'\n",
      "    >>> neut.icXX_bound(0.95)\n",
      "    'lower'\n",
      "    >>> numpy.allclose(neut.icXX(0.95, method='bound'), neut.cs[-1])\n",
      "    True\n",
      "    >>> '{:.4f}'.format(neut.icXX(0.8), 4)\n",
      "    '0.0896'\n",
      "    >>> numpy.allclose(0.2, neut.fracinfectivity(neut.icXX(0.8)))\n",
      "    True\n",
      "\n",
      "    Now fit with `infectivity_or_neutralized='neutralized'`, which is useful\n",
      "    when the signal **increases** rather than decreases with increasing\n",
      "    concentration (as would be the case if measuring fraction bound rather\n",
      "    than fraction infectivity).\n",
      "\n",
      "    .. nbplot::\n",
      "\n",
      "       >>> neut_opp = HillCurve(cs, [1 - f for f in fs],\n",
      "       ...                      fixtop=False, fixbottom=False,\n",
      "       ...                      infectivity_or_neutralized='neutralized')\n",
      "       >>> numpy.allclose(neut_opp.top, 0.9)\n",
      "       True\n",
      "       >>> numpy.allclose(neut_opp.bottom, 0)\n",
      "       True\n",
      "       >>> numpy.allclose(neut_opp.midpoint, m)\n",
      "       True\n",
      "       >>> neut_opp.ic50() < neut_opp.midpoint\n",
      "       True\n",
      "       >>> fig, ax = neut_opp.plot(ylabel='fraction neutralized')\n",
      "\n",
      "    \n"
     ]
    }
   ],
   "source": [
    "print(HillCurve.__doc__)"
   ]
  },
  {
   "cell_type": "code",
   "execution_count": 4,
   "id": "439fd97a",
   "metadata": {},
   "outputs": [],
   "source": [
    "import numpy\n",
    "\n",
    "from neutcurve import HillCurve\n",
    "from neutcurve.colorschemes import CBPALETTE"
   ]
  },
  {
   "cell_type": "code",
   "execution_count": 5,
   "id": "a276023a",
   "metadata": {},
   "outputs": [],
   "source": [
    "# why are we entering values for m, s?  I thought m is going to be calculated as the IC50 rather than entered, or is it instead just a midpoint like median value in the data? \n",
    "# will we be ultimately be setting the hillslope, or is it being calculated?\n",
    "m = 0.03\n",
    "s = 1.9\n",
    "b = 0.1\n",
    "t = 1.0\n",
    "cs = [0.002 * 2**x for x in range (9)]\n",
    "fs = [HillCurve.evaluate(c, m, s, b, t) for c in cs]"
   ]
  },
  {
   "cell_type": "code",
   "execution_count": 6,
   "id": "4e38fc75",
   "metadata": {},
   "outputs": [
    {
     "data": {
      "text/plain": [
       "True"
      ]
     },
     "execution_count": 6,
     "metadata": {},
     "output_type": "execute_result"
    }
   ],
   "source": [
    "neut = HillCurve (cs, fs, fixbottom=False)\n",
    "numpy.allclose(neut.midpoint, m)\n"
   ]
  },
  {
   "cell_type": "code",
   "execution_count": 7,
   "id": "ae4769b7",
   "metadata": {},
   "outputs": [
    {
     "data": {
      "text/plain": [
       "True"
      ]
     },
     "execution_count": 7,
     "metadata": {},
     "output_type": "execute_result"
    }
   ],
   "source": [
    "numpy.allclose(neut.slope, s, atol=1e-4)\n"
   ]
  },
  {
   "cell_type": "code",
   "execution_count": 8,
   "id": "250ae82e",
   "metadata": {},
   "outputs": [
    {
     "data": {
      "text/plain": [
       "True"
      ]
     },
     "execution_count": 8,
     "metadata": {},
     "output_type": "execute_result"
    }
   ],
   "source": [
    "numpy.allclose(neut.top, t)"
   ]
  },
  {
   "cell_type": "code",
   "execution_count": 9,
   "id": "8669dd7d",
   "metadata": {},
   "outputs": [
    {
     "data": {
      "text/plain": [
       "True"
      ]
     },
     "execution_count": 9,
     "metadata": {},
     "output_type": "execute_result"
    }
   ],
   "source": [
    "numpy.allclose(neut.bottom, b)\n"
   ]
  },
  {
   "cell_type": "code",
   "execution_count": 10,
   "id": "cec961a7",
   "metadata": {},
   "outputs": [
    {
     "name": "stdout",
     "output_type": "stream",
     "text": [
      "midpoint = 0.062\n",
      "slope = 6.3\n",
      "top = 0\n",
      "bottom = 0.73\n"
     ]
    }
   ],
   "source": [
    "for key, val in neut.params_stdev.items():\n",
    "    print(f\"{key} = {val:.2g}\")\n",
    "\n"
   ]
  },
  {
   "cell_type": "code",
   "execution_count": 11,
   "id": "f285c09e",
   "metadata": {},
   "outputs": [
    {
     "data": {
      "text/plain": [
       "True"
      ]
     },
     "execution_count": 11,
     "metadata": {},
     "output_type": "execute_result"
    }
   ],
   "source": [
    "neut.ic50() > neut.midpoint"
   ]
  },
  {
   "cell_type": "code",
   "execution_count": 12,
   "id": "643e0819",
   "metadata": {},
   "outputs": [
    {
     "name": "stdout",
     "output_type": "stream",
     "text": [
      "IC50: 0.034 +/- 0.070\n"
     ]
    }
   ],
   "source": [
    "print(f\"IC50: {neut.ic50():.3f} +/- {neut.ic50_stdev():.3f}\")"
   ]
  },
  {
   "cell_type": "code",
   "execution_count": 13,
   "id": "5ae83cc9",
   "metadata": {},
   "outputs": [
    {
     "data": {
      "text/plain": [
       "True"
      ]
     },
     "execution_count": 13,
     "metadata": {},
     "output_type": "execute_result"
    }
   ],
   "source": [
    "numpy.allclose(neut.ic50(), 0.0337385586)"
   ]
  },
  {
   "cell_type": "code",
   "execution_count": 14,
   "id": "cea57960",
   "metadata": {},
   "outputs": [
    {
     "data": {
      "text/plain": [
       "True"
      ]
     },
     "execution_count": 14,
     "metadata": {},
     "output_type": "execute_result"
    }
   ],
   "source": [
    "numpy.allclose(0.5, neut.fracinfectivity(neut.ic50()))"
   ]
  },
  {
   "cell_type": "code",
   "execution_count": 15,
   "id": "ed1e27e7",
   "metadata": {},
   "outputs": [
    {
     "data": {
      "text/plain": [
       "True"
      ]
     },
     "execution_count": 15,
     "metadata": {},
     "output_type": "execute_result"
    }
   ],
   "source": [
    "#here we constrain the top to 1 and bottom to 0; now the midpoint and IC50 are the same\n",
    "b2 = 0\n",
    "t2 = 1\n",
    "fs2 = [HillCurve.evaluate(c, m, s, b2, t2) for c in cs]\n",
    "neut2 = HillCurve(cs, fs2)\n",
    "numpy.allclose(neut2.midpoint, m)"
   ]
  },
  {
   "cell_type": "code",
   "execution_count": 16,
   "id": "87ae965f",
   "metadata": {},
   "outputs": [
    {
     "data": {
      "text/plain": [
       "True"
      ]
     },
     "execution_count": 16,
     "metadata": {},
     "output_type": "execute_result"
    }
   ],
   "source": [
    "numpy.allclose(neut2.ic50(),m)"
   ]
  },
  {
   "cell_type": "code",
   "execution_count": 17,
   "id": "7b0c7cce",
   "metadata": {},
   "outputs": [
    {
     "data": {
      "text/plain": [
       "False"
      ]
     },
     "execution_count": 17,
     "metadata": {},
     "output_type": "execute_result"
    }
   ],
   "source": [
    "neut2.ic50() < neut2.midpoint"
   ]
  },
  {
   "cell_type": "code",
   "execution_count": 18,
   "id": "9a937b1e",
   "metadata": {},
   "outputs": [
    {
     "data": {
      "text/plain": [
       "'interpolated'"
      ]
     },
     "execution_count": 18,
     "metadata": {},
     "output_type": "execute_result"
    }
   ],
   "source": [
    "neut2.ic50_bound()"
   ]
  },
  {
   "cell_type": "code",
   "execution_count": 19,
   "id": "3e788fb7",
   "metadata": {},
   "outputs": [
    {
     "name": "stdout",
     "output_type": "stream",
     "text": [
      "0.03\n"
     ]
    }
   ],
   "source": [
    "print(m)"
   ]
  },
  {
   "cell_type": "code",
   "execution_count": 20,
   "id": "dbf51a2f",
   "metadata": {},
   "outputs": [
    {
     "data": {
      "text/plain": [
       "True"
      ]
     },
     "execution_count": 20,
     "metadata": {},
     "output_type": "execute_result"
    }
   ],
   "source": [
    "# now we're going to fit concentrations that are all *less* than the midpoint\n",
    "# this is similar to RBD depleted sera, for example\n",
    "cs3 = [1e-5 * 2**x for x in range(7)]\n",
    "(cs3[-1] < m)"
   ]
  },
  {
   "cell_type": "code",
   "execution_count": 21,
   "id": "ab2dcf9c",
   "metadata": {},
   "outputs": [
    {
     "data": {
      "text/plain": [
       "True"
      ]
     },
     "execution_count": 21,
     "metadata": {},
     "output_type": "execute_result"
    }
   ],
   "source": [
    "fs3 = [HillCurve.evaluate(c, m, s, b2, t2) for c in cs3]\n",
    "neut3 = HillCurve(cs3, fs3)\n",
    "neut3.ic50() is None"
   ]
  },
  {
   "cell_type": "code",
   "execution_count": 22,
   "id": "667bdc08",
   "metadata": {},
   "outputs": [
    {
     "data": {
      "text/plain": [
       "True"
      ]
     },
     "execution_count": 22,
     "metadata": {},
     "output_type": "execute_result"
    }
   ],
   "source": [
    "#I am confused by what this is saying.  Is it saying that the bound neut3.ic50 is equla to cs3[-1]?\n",
    "numpy.allclose(neut3.ic50(method='bound'), cs3[-1])"
   ]
  },
  {
   "cell_type": "code",
   "execution_count": 23,
   "id": "f42bcc2a",
   "metadata": {},
   "outputs": [
    {
     "data": {
      "text/plain": [
       "'>0.00064'"
      ]
     },
     "execution_count": 23,
     "metadata": {},
     "output_type": "execute_result"
    }
   ],
   "source": [
    "neut3.ic50_str()"
   ]
  },
  {
   "cell_type": "code",
   "execution_count": 24,
   "id": "4941771d",
   "metadata": {},
   "outputs": [
    {
     "data": {
      "text/plain": [
       "'0.0337'"
      ]
     },
     "execution_count": 24,
     "metadata": {},
     "output_type": "execute_result"
    }
   ],
   "source": [
    "neut.ic50_str()"
   ]
  },
  {
   "cell_type": "code",
   "execution_count": 25,
   "id": "ea18d62b",
   "metadata": {},
   "outputs": [
    {
     "data": {
      "text/plain": [
       "'interpolated'"
      ]
     },
     "execution_count": 25,
     "metadata": {},
     "output_type": "execute_result"
    }
   ],
   "source": [
    "neut.ic50_bound()"
   ]
  },
  {
   "cell_type": "code",
   "execution_count": 26,
   "id": "b85523fd",
   "metadata": {},
   "outputs": [
    {
     "data": {
      "text/plain": [
       "'lower'"
      ]
     },
     "execution_count": 26,
     "metadata": {},
     "output_type": "execute_result"
    }
   ],
   "source": [
    "neut3.ic50_bound()"
   ]
  },
  {
   "cell_type": "code",
   "execution_count": 27,
   "id": "64c7a344",
   "metadata": {},
   "outputs": [
    {
     "data": {
      "text/html": [
       "<div>\n",
       "<style scoped>\n",
       "    .dataframe tbody tr th:only-of-type {\n",
       "        vertical-align: middle;\n",
       "    }\n",
       "\n",
       "    .dataframe tbody tr th {\n",
       "        vertical-align: top;\n",
       "    }\n",
       "\n",
       "    .dataframe thead th {\n",
       "        text-align: right;\n",
       "    }\n",
       "</style>\n",
       "<table border=\"1\" class=\"dataframe\">\n",
       "  <thead>\n",
       "    <tr style=\"text-align: right;\">\n",
       "      <th></th>\n",
       "      <th>concentration</th>\n",
       "      <th>measurement</th>\n",
       "      <th>fit</th>\n",
       "      <th>stderr</th>\n",
       "    </tr>\n",
       "  </thead>\n",
       "  <tbody>\n",
       "    <tr>\n",
       "      <th>0</th>\n",
       "      <td>0.002</td>\n",
       "      <td>0.995</td>\n",
       "      <td>0.995</td>\n",
       "      <td>NaN</td>\n",
       "    </tr>\n",
       "    <tr>\n",
       "      <th>1</th>\n",
       "      <td>0.004</td>\n",
       "      <td>0.981</td>\n",
       "      <td>0.981</td>\n",
       "      <td>NaN</td>\n",
       "    </tr>\n",
       "    <tr>\n",
       "      <th>2</th>\n",
       "      <td>0.008</td>\n",
       "      <td>0.932</td>\n",
       "      <td>0.932</td>\n",
       "      <td>NaN</td>\n",
       "    </tr>\n",
       "    <tr>\n",
       "      <th>3</th>\n",
       "      <td>0.016</td>\n",
       "      <td>0.791</td>\n",
       "      <td>0.791</td>\n",
       "      <td>NaN</td>\n",
       "    </tr>\n",
       "    <tr>\n",
       "      <th>4</th>\n",
       "      <td>0.032</td>\n",
       "      <td>0.522</td>\n",
       "      <td>0.522</td>\n",
       "      <td>NaN</td>\n",
       "    </tr>\n",
       "    <tr>\n",
       "      <th>5</th>\n",
       "      <td>0.064</td>\n",
       "      <td>0.272</td>\n",
       "      <td>0.272</td>\n",
       "      <td>NaN</td>\n",
       "    </tr>\n",
       "    <tr>\n",
       "      <th>6</th>\n",
       "      <td>0.128</td>\n",
       "      <td>0.154</td>\n",
       "      <td>0.154</td>\n",
       "      <td>NaN</td>\n",
       "    </tr>\n",
       "    <tr>\n",
       "      <th>7</th>\n",
       "      <td>0.256</td>\n",
       "      <td>0.115</td>\n",
       "      <td>0.115</td>\n",
       "      <td>NaN</td>\n",
       "    </tr>\n",
       "    <tr>\n",
       "      <th>8</th>\n",
       "      <td>0.512</td>\n",
       "      <td>0.104</td>\n",
       "      <td>0.104</td>\n",
       "      <td>NaN</td>\n",
       "    </tr>\n",
       "  </tbody>\n",
       "</table>\n",
       "</div>"
      ],
      "text/plain": [
       "   concentration  measurement    fit  stderr\n",
       "0          0.002        0.995  0.995     NaN\n",
       "1          0.004        0.981  0.981     NaN\n",
       "2          0.008        0.932  0.932     NaN\n",
       "3          0.016        0.791  0.791     NaN\n",
       "4          0.032        0.522  0.522     NaN\n",
       "5          0.064        0.272  0.272     NaN\n",
       "6          0.128        0.154  0.154     NaN\n",
       "7          0.256        0.115  0.115     NaN\n",
       "8          0.512        0.104  0.104     NaN"
      ]
     },
     "execution_count": 27,
     "metadata": {},
     "output_type": "execute_result"
    }
   ],
   "source": [
    "# using method .dataframe to get measured data; rounds to 3 decimal places\n",
    "neut.dataframe('measured').round(3)"
   ]
  },
  {
   "cell_type": "code",
   "execution_count": 28,
   "id": "db7e1d79",
   "metadata": {},
   "outputs": [
    {
     "data": {
      "text/html": [
       "<div>\n",
       "<style scoped>\n",
       "    .dataframe tbody tr th:only-of-type {\n",
       "        vertical-align: middle;\n",
       "    }\n",
       "\n",
       "    .dataframe tbody tr th {\n",
       "        vertical-align: top;\n",
       "    }\n",
       "\n",
       "    .dataframe thead th {\n",
       "        text-align: right;\n",
       "    }\n",
       "</style>\n",
       "<table border=\"1\" class=\"dataframe\">\n",
       "  <thead>\n",
       "    <tr style=\"text-align: right;\">\n",
       "      <th></th>\n",
       "      <th>concentration</th>\n",
       "      <th>measurement</th>\n",
       "      <th>fit</th>\n",
       "      <th>stderr</th>\n",
       "    </tr>\n",
       "  </thead>\n",
       "  <tbody>\n",
       "    <tr>\n",
       "      <th>0</th>\n",
       "      <td>0.002</td>\n",
       "      <td>0.995</td>\n",
       "      <td>0.995</td>\n",
       "      <td>NaN</td>\n",
       "    </tr>\n",
       "    <tr>\n",
       "      <th>1</th>\n",
       "      <td>0.004</td>\n",
       "      <td>0.981</td>\n",
       "      <td>0.981</td>\n",
       "      <td>NaN</td>\n",
       "    </tr>\n",
       "    <tr>\n",
       "      <th>2</th>\n",
       "      <td>0.008</td>\n",
       "      <td>0.932</td>\n",
       "      <td>0.932</td>\n",
       "      <td>NaN</td>\n",
       "    </tr>\n",
       "    <tr>\n",
       "      <th>3</th>\n",
       "      <td>0.016</td>\n",
       "      <td>0.791</td>\n",
       "      <td>0.791</td>\n",
       "      <td>NaN</td>\n",
       "    </tr>\n",
       "    <tr>\n",
       "      <th>4</th>\n",
       "      <td>0.032</td>\n",
       "      <td>0.522</td>\n",
       "      <td>0.522</td>\n",
       "      <td>NaN</td>\n",
       "    </tr>\n",
       "    <tr>\n",
       "      <th>5</th>\n",
       "      <td>0.064</td>\n",
       "      <td>0.272</td>\n",
       "      <td>0.272</td>\n",
       "      <td>NaN</td>\n",
       "    </tr>\n",
       "    <tr>\n",
       "      <th>6</th>\n",
       "      <td>0.128</td>\n",
       "      <td>0.154</td>\n",
       "      <td>0.154</td>\n",
       "      <td>NaN</td>\n",
       "    </tr>\n",
       "    <tr>\n",
       "      <th>7</th>\n",
       "      <td>0.256</td>\n",
       "      <td>0.115</td>\n",
       "      <td>0.115</td>\n",
       "      <td>NaN</td>\n",
       "    </tr>\n",
       "    <tr>\n",
       "      <th>8</th>\n",
       "      <td>0.512</td>\n",
       "      <td>0.104</td>\n",
       "      <td>0.104</td>\n",
       "      <td>NaN</td>\n",
       "    </tr>\n",
       "    <tr>\n",
       "      <th>9</th>\n",
       "      <td>0.600</td>\n",
       "      <td>NaN</td>\n",
       "      <td>0.103</td>\n",
       "      <td>NaN</td>\n",
       "    </tr>\n",
       "  </tbody>\n",
       "</table>\n",
       "</div>"
      ],
      "text/plain": [
       "   concentration  measurement    fit  stderr\n",
       "0          0.002        0.995  0.995     NaN\n",
       "1          0.004        0.981  0.981     NaN\n",
       "2          0.008        0.932  0.932     NaN\n",
       "3          0.016        0.791  0.791     NaN\n",
       "4          0.032        0.522  0.522     NaN\n",
       "5          0.064        0.272  0.272     NaN\n",
       "6          0.128        0.154  0.154     NaN\n",
       "7          0.256        0.115  0.115     NaN\n",
       "8          0.512        0.104  0.104     NaN\n",
       "9          0.600          NaN  0.103     NaN"
      ]
     },
     "execution_count": 28,
     "metadata": {},
     "output_type": "execute_result"
    }
   ],
   "source": [
    "# add one more data point\n",
    "neut.dataframe([0.6]).round(3)"
   ]
  },
  {
   "cell_type": "code",
   "execution_count": 29,
   "id": "6009dc52",
   "metadata": {},
   "outputs": [
    {
     "name": "stderr",
     "output_type": "stream",
     "text": [
      "/fh/fast/bloom_j/software/miniconda3/envs/BloomLab/lib/python3.8/site-packages/numpy/core/_methods.py:43: RuntimeWarning: invalid value encountered in reduce\n",
      "  return umr_minimum(a, axis, None, out, keepdims, initial, where)\n",
      "/fh/fast/bloom_j/software/miniconda3/envs/BloomLab/lib/python3.8/site-packages/numpy/core/_methods.py:39: RuntimeWarning: invalid value encountered in reduce\n",
      "  return umr_maximum(a, axis, None, out, keepdims, initial, where)\n"
     ]
    },
    {
     "data": {
      "image/png": "[encoded data removed]",
      "text/plain": [
       "<Figure size 288x216 with 1 Axes>"
      ]
     },
     "metadata": {
      "needs_background": "light"
     },
     "output_type": "display_data"
    }
   ],
   "source": [
    "fig, ax = neut.plot()"
   ]
  },
  {
   "cell_type": "code",
   "execution_count": 30,
   "id": "e231420d",
   "metadata": {},
   "outputs": [],
   "source": [
    "neut_linear = HillCurve(cs, fs, fitlogc=False, fixbottom=False)"
   ]
  },
  {
   "cell_type": "code",
   "execution_count": 31,
   "id": "9b69f266",
   "metadata": {},
   "outputs": [
    {
     "data": {
      "text/plain": [
       "True"
      ]
     },
     "execution_count": 31,
     "metadata": {},
     "output_type": "execute_result"
    }
   ],
   "source": [
    "all(numpy.allclose(getattr(neut, attr), getattr(neut_linear, attr))\n",
    "    for attr in ['top', 'bottom', 'slope', 'midpoint'])"
   ]
  },
  {
   "cell_type": "code",
   "execution_count": 32,
   "id": "6f4eb74d",
   "metadata": {},
   "outputs": [
    {
     "data": {
      "text/plain": [
       "True"
      ]
     },
     "execution_count": 32,
     "metadata": {},
     "output_type": "execute_result"
    }
   ],
   "source": [
    "# This is under demostrate HillCurve.icXX.  Why is is neut.icXX?\n",
    "neut.icXX(0.95) is None"
   ]
  },
  {
   "cell_type": "code",
   "execution_count": 33,
   "id": "e5e48240",
   "metadata": {},
   "outputs": [
    {
     "data": {
      "text/plain": [
       "'lower'"
      ]
     },
     "execution_count": 33,
     "metadata": {},
     "output_type": "execute_result"
    }
   ],
   "source": [
    "# I thought it was only the neut3 that was lower bound, not neut?\n",
    "neut.icXX_bound(0.95)"
   ]
  },
  {
   "cell_type": "code",
   "execution_count": 34,
   "id": "53918320",
   "metadata": {},
   "outputs": [
    {
     "data": {
      "text/plain": [
       "'0.0896'"
      ]
     },
     "execution_count": 34,
     "metadata": {},
     "output_type": "execute_result"
    }
   ],
   "source": [
    "#I don't know what this means\n",
    "'{:.4f}'.format(neut.icXX(0.8), 4)"
   ]
  },
  {
   "cell_type": "code",
   "execution_count": 35,
   "id": "74376af2",
   "metadata": {},
   "outputs": [
    {
     "data": {
      "text/plain": [
       "True"
      ]
     },
     "execution_count": 35,
     "metadata": {},
     "output_type": "execute_result"
    }
   ],
   "source": [
    "#also don't understand this\n",
    "numpy.allclose(0.2, neut.fracinfectivity(neut.icXX(0.8)))"
   ]
  },
  {
   "cell_type": "code",
   "execution_count": 37,
   "id": "d5eae2b7",
   "metadata": {},
   "outputs": [
    {
     "data": {
      "text/plain": [
       "True"
      ]
     },
     "execution_count": 37,
     "metadata": {},
     "output_type": "execute_result"
    }
   ],
   "source": [
    "# now fitting NT50 rather than fraction infectivity\n",
    "# why are we using allclose if we have to know the answer before asking the command?  eg below.with 0.9\n",
    "# is this asking if the top is 0.9 ie rather than 1?\n",
    "neut_opp = HillCurve(cs, [1-f for f in fs],\n",
    "                    fixtop=False,fixbottom=False,\n",
    "                    infectivity_or_neutralized='neutralized')\n",
    "numpy.allclose(neut_opp.top, 0.9)"
   ]
  },
  {
   "cell_type": "code",
   "execution_count": 38,
   "id": "229aaea0",
   "metadata": {},
   "outputs": [
    {
     "data": {
      "text/plain": [
       "True"
      ]
     },
     "execution_count": 38,
     "metadata": {},
     "output_type": "execute_result"
    }
   ],
   "source": [
    "numpy.allclose(neut_opp.bottom, 0)"
   ]
  },
  {
   "cell_type": "code",
   "execution_count": 39,
   "id": "9d56df9f",
   "metadata": {},
   "outputs": [
    {
     "data": {
      "text/plain": [
       "True"
      ]
     },
     "execution_count": 39,
     "metadata": {},
     "output_type": "execute_result"
    }
   ],
   "source": [
    "numpy.allclose(neut_opp.midpoint, m)"
   ]
  },
  {
   "cell_type": "code",
   "execution_count": 40,
   "id": "44f10739",
   "metadata": {},
   "outputs": [
    {
     "data": {
      "text/plain": [
       "True"
      ]
     },
     "execution_count": 40,
     "metadata": {},
     "output_type": "execute_result"
    }
   ],
   "source": [
    "neut_opp.ic50() < neut_opp.midpoint"
   ]
  },
  {
   "cell_type": "code",
   "execution_count": 44,
   "id": "6280a55a",
   "metadata": {},
   "outputs": [
    {
     "name": "stderr",
     "output_type": "stream",
     "text": [
      "/fh/fast/bloom_j/software/miniconda3/envs/BloomLab/lib/python3.8/site-packages/numpy/core/_methods.py:43: RuntimeWarning: invalid value encountered in reduce\n",
      "  return umr_minimum(a, axis, None, out, keepdims, initial, where)\n",
      "/fh/fast/bloom_j/software/miniconda3/envs/BloomLab/lib/python3.8/site-packages/numpy/core/_methods.py:39: RuntimeWarning: invalid value encountered in reduce\n",
      "  return umr_maximum(a, axis, None, out, keepdims, initial, where)\n"
     ]
    },
    {
     "data": {
      "image/png": "[encoded data removed]",
      "text/plain": [
       "<Figure size 288x216 with 1 Axes>"
      ]
     },
     "metadata": {
      "needs_background": "light"
     },
     "output_type": "display_data"
    }
   ],
   "source": [
    "fig, ax = neut_opp.plot(ylabel='fraction neutralized')"
   ]
  },
  {
   "cell_type": "code",
   "execution_count": null,
   "id": "0f49c705",
   "metadata": {},
   "outputs": [],
   "source": []
  }
 ],
 "metadata": {
  "kernelspec": {
   "display_name": "Python 3 (ipykernel)",
   "language": "python",
   "name": "python3"
  },
  "language_info": {
   "codemirror_mode": {
    "name": "ipython",
    "version": 3
   },
   "file_extension": ".py",
   "mimetype": "text/x-python",
   "name": "python",
   "nbconvert_exporter": "python",
   "pygments_lexer": "ipython3",
   "version": "3.8.12"
  }
 },
 "nbformat": 4,
 "nbformat_minor": 5
}
