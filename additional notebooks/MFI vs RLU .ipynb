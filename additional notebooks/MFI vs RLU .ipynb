{
 "cells": [
  {
   "cell_type": "markdown",
   "id": "9e840de5",
   "metadata": {},
   "source": [
    "# MFI vs RLU for different clones"
   ]
  },
  {
   "cell_type": "code",
   "execution_count": 26,
   "id": "b7553ea4",
   "metadata": {},
   "outputs": [],
   "source": [
    "import os\n",
    "import warnings\n",
    "\n",
    "import math\n",
    "import numpy as np \n",
    "\n",
    "from IPython.display import display, HTML\n",
    "import matplotlib.pyplot as plt\n",
    "\n",
    "from neutcurve.colorschemes import CBMARKERS, CBPALETTE\n",
    "\n",
    "import pandas as pd\n",
    "from plotnine import *\n",
    "\n",
    "import yaml"
   ]
  },
  {
   "cell_type": "code",
   "execution_count": 32,
   "id": "9582515d",
   "metadata": {},
   "outputs": [
    {
     "data": {
      "text/html": [
       "<div>\n",
       "<style scoped>\n",
       "    .dataframe tbody tr th:only-of-type {\n",
       "        vertical-align: middle;\n",
       "    }\n",
       "\n",
       "    .dataframe tbody tr th {\n",
       "        vertical-align: top;\n",
       "    }\n",
       "\n",
       "    .dataframe thead th {\n",
       "        text-align: right;\n",
       "    }\n",
       "</style>\n",
       "<table border=\"1\" class=\"dataframe\">\n",
       "  <thead>\n",
       "    <tr style=\"text-align: right;\">\n",
       "      <th></th>\n",
       "      <th>cells</th>\n",
       "      <th>MFI</th>\n",
       "      <th>RLU/ul</th>\n",
       "      <th>relative_MFI</th>\n",
       "      <th>relative_RLU</th>\n",
       "    </tr>\n",
       "  </thead>\n",
       "  <tbody>\n",
       "    <tr>\n",
       "      <th>0</th>\n",
       "      <td>very low</td>\n",
       "      <td>699.0</td>\n",
       "      <td>1830.92</td>\n",
       "      <td>0.058878</td>\n",
       "      <td>0.035987</td>\n",
       "    </tr>\n",
       "    <tr>\n",
       "      <th>1</th>\n",
       "      <td>low</td>\n",
       "      <td>1396.0</td>\n",
       "      <td>8123.15</td>\n",
       "      <td>0.117588</td>\n",
       "      <td>0.159661</td>\n",
       "    </tr>\n",
       "    <tr>\n",
       "      <th>2</th>\n",
       "      <td>medium</td>\n",
       "      <td>2037.0</td>\n",
       "      <td>39923.31</td>\n",
       "      <td>0.171580</td>\n",
       "      <td>0.784697</td>\n",
       "    </tr>\n",
       "    <tr>\n",
       "      <th>3</th>\n",
       "      <td>high</td>\n",
       "      <td>11872.0</td>\n",
       "      <td>50877.35</td>\n",
       "      <td>1.000000</td>\n",
       "      <td>1.000000</td>\n",
       "    </tr>\n",
       "  </tbody>\n",
       "</table>\n",
       "</div>"
      ],
      "text/plain": [
       "      cells      MFI    RLU/ul  relative_MFI  relative_RLU\n",
       "0  very low    699.0   1830.92      0.058878      0.035987\n",
       "1       low   1396.0   8123.15      0.117588      0.159661\n",
       "2    medium   2037.0  39923.31      0.171580      0.784697\n",
       "3      high  11872.0  50877.35      1.000000      1.000000"
      ]
     },
     "execution_count": 32,
     "metadata": {},
     "output_type": "execute_result"
    }
   ],
   "source": [
    "MFI_RLU_df = pd.read_csv('MFI_vs_RLU.csv')\n",
    "MFI_RLU_df"
   ]
  },
  {
   "cell_type": "code",
   "execution_count": 33,
   "id": "3b160948",
   "metadata": {},
   "outputs": [
    {
     "name": "stderr",
     "output_type": "stream",
     "text": [
      "/tmp/ipykernel_56306/2625649880.py:4: SettingWithCopyWarning: \n",
      "A value is trying to be set on a copy of a slice from a DataFrame.\n",
      "Try using .loc[row_indexer,col_indexer] = value instead\n",
      "\n",
      "See the caveats in the documentation: https://pandas.pydata.org/pandas-docs/stable/user_guide/indexing.html#returning-a-view-versus-a-copy\n"
     ]
    }
   ],
   "source": [
    "MFI_RLU_df = MFI_RLU_df.loc[MFI_RLU_df['cells'] != 'medium']\n",
    "\n",
    "cat_order = ['very low', 'low', 'high']\n",
    "MFI_RLU_df['cells'] = pd.Categorical(MFI_RLU_df['cells'], categories=cat_order, ordered=True)\n"
   ]
  },
  {
   "cell_type": "code",
   "execution_count": 34,
   "id": "8aa9ec6f",
   "metadata": {},
   "outputs": [
    {
     "data": {
      "text/html": [
       "<div>\n",
       "<style scoped>\n",
       "    .dataframe tbody tr th:only-of-type {\n",
       "        vertical-align: middle;\n",
       "    }\n",
       "\n",
       "    .dataframe tbody tr th {\n",
       "        vertical-align: top;\n",
       "    }\n",
       "\n",
       "    .dataframe thead th {\n",
       "        text-align: right;\n",
       "    }\n",
       "</style>\n",
       "<table border=\"1\" class=\"dataframe\">\n",
       "  <thead>\n",
       "    <tr style=\"text-align: right;\">\n",
       "      <th></th>\n",
       "      <th>cells</th>\n",
       "      <th>MFI</th>\n",
       "      <th>RLU/ul</th>\n",
       "      <th>relative_MFI</th>\n",
       "      <th>relative_RLU</th>\n",
       "    </tr>\n",
       "  </thead>\n",
       "  <tbody>\n",
       "    <tr>\n",
       "      <th>0</th>\n",
       "      <td>very low</td>\n",
       "      <td>699.0</td>\n",
       "      <td>1830.92</td>\n",
       "      <td>0.058878</td>\n",
       "      <td>0.035987</td>\n",
       "    </tr>\n",
       "    <tr>\n",
       "      <th>1</th>\n",
       "      <td>low</td>\n",
       "      <td>1396.0</td>\n",
       "      <td>8123.15</td>\n",
       "      <td>0.117588</td>\n",
       "      <td>0.159661</td>\n",
       "    </tr>\n",
       "    <tr>\n",
       "      <th>3</th>\n",
       "      <td>high</td>\n",
       "      <td>11872.0</td>\n",
       "      <td>50877.35</td>\n",
       "      <td>1.000000</td>\n",
       "      <td>1.000000</td>\n",
       "    </tr>\n",
       "  </tbody>\n",
       "</table>\n",
       "</div>"
      ],
      "text/plain": [
       "      cells      MFI    RLU/ul  relative_MFI  relative_RLU\n",
       "0  very low    699.0   1830.92      0.058878      0.035987\n",
       "1       low   1396.0   8123.15      0.117588      0.159661\n",
       "3      high  11872.0  50877.35      1.000000      1.000000"
      ]
     },
     "execution_count": 34,
     "metadata": {},
     "output_type": "execute_result"
    }
   ],
   "source": [
    "MFI_RLU_df"
   ]
  },
  {
   "cell_type": "code",
   "execution_count": 35,
   "id": "bfd66685",
   "metadata": {},
   "outputs": [],
   "source": [
    "theme_set(theme_seaborn(style='white', context='talk', font_scale=1))\n",
    "plt.style.use('seaborn-white')"
   ]
  },
  {
   "cell_type": "code",
   "execution_count": 36,
   "id": "a3d0cc16",
   "metadata": {},
   "outputs": [
    {
     "name": "stderr",
     "output_type": "stream",
     "text": [
      "/fh/fast/bloom_j/software/miniconda3/envs/BloomLab/lib/python3.8/site-packages/plotnine/guides/guides.py:197: PlotnineWarning: Cannot generate legend for the 'color' aesthetic. Make sure you have mapped a variable to it\n",
      "/fh/fast/bloom_j/software/miniconda3/envs/BloomLab/lib/python3.8/site-packages/plotnine/ggplot.py:719: PlotnineWarning: Saving 4 x 4 in image.\n",
      "/fh/fast/bloom_j/software/miniconda3/envs/BloomLab/lib/python3.8/site-packages/plotnine/ggplot.py:722: PlotnineWarning: Filename: cell_vs_MFI.png\n",
      "/fh/fast/bloom_j/software/miniconda3/envs/BloomLab/lib/python3.8/site-packages/plotnine/guides/guides.py:197: PlotnineWarning: Cannot generate legend for the 'color' aesthetic. Make sure you have mapped a variable to it\n"
     ]
    },
    {
     "data": {
      "image/png": "[encoded data removed]",
      "text/plain": [
       "<Figure size 400x400 with 1 Axes>"
      ]
     },
     "metadata": {},
     "output_type": "display_data"
    }
   ],
   "source": [
    "\n",
    "\n",
    "p = (ggplot(MFI_RLU_df, \n",
    "            aes(x='cells', y='MFI')\n",
    "           ) +\n",
    "     geom_point(size=2.5)+\n",
    "     theme(axis_text_x=element_text(angle=90),\n",
    "           figure_size=(4,4),\n",
    "           axis_text=element_text(size=10),\n",
    "           legend_text=element_text(size=10),\n",
    "           legend_title=element_text(size=10),\n",
    "           axis_title=element_text(size=12),\n",
    "           title=element_text(size=12),\n",
    "           strip_text = element_text(size=10)\n",
    "          ) +\n",
    "     xlab('cell clone') +\n",
    "          scale_y_log10(limits=[1,1.1e6]) +\n",
    "     labs(y ='ACE2 expression (MFI)',\n",
    "          title ='ACE2 expression in target cells') +\n",
    "     scale_color_manual(values=(\"#009E73\",\"#56B4E9\",\"#E69F00\",\"#999999\"))\n",
    "    )\n",
    "\n",
    "_ = p.draw()\n",
    "\n",
    "p.save('cell_vs_MFI.png', dpi=300)\n"
   ]
  },
  {
   "cell_type": "code",
   "execution_count": null,
   "id": "55793554",
   "metadata": {},
   "outputs": [],
   "source": []
  },
  {
   "cell_type": "code",
   "execution_count": null,
   "id": "7747c8db",
   "metadata": {},
   "outputs": [],
   "source": []
  }
 ],
 "metadata": {
  "kernelspec": {
   "display_name": "Python 3 (ipykernel)",
   "language": "python",
   "name": "python3"
  },
  "language_info": {
   "codemirror_mode": {
    "name": "ipython",
    "version": 3
   },
   "file_extension": ".py",
   "mimetype": "text/x-python",
   "name": "python",
   "nbconvert_exporter": "python",
   "pygments_lexer": "ipython3",
   "version": "3.8.12"
  }
 },
 "nbformat": 4,
 "nbformat_minor": 5
}
