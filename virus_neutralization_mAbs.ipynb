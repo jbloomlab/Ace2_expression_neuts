{
 "cells": [
  {
   "cell_type": "markdown",
   "metadata": {},
   "source": [
    "# Analysis of SARS-COV-2 virus neutalization in different Ace2 clones"
   ]
  },
  {
   "cell_type": "markdown",
   "metadata": {},
   "source": [
    "### Set up Analysis"
   ]
  },
  {
   "cell_type": "code",
   "execution_count": 1,
   "metadata": {
    "execution": {
     "iopub.execute_input": "2022-03-26T20:06:34.207559Z",
     "iopub.status.busy": "2022-03-26T20:06:34.206770Z",
     "iopub.status.idle": "2022-03-26T20:06:36.975930Z",
     "shell.execute_reply": "2022-03-26T20:06:36.975097Z"
    }
   },
   "outputs": [],
   "source": [
    "import itertools\n",
    "import math\n",
    "import os\n",
    "import re\n",
    "import warnings\n",
    "\n",
    "from IPython.display import display, HTML\n",
    "\n",
    "import matplotlib\n",
    "import matplotlib as mpl\n",
    "import matplotlib.pyplot as plt\n",
    "import natsort\n",
    "\n",
    "import numpy as np\n",
    "import pandas as pd\n",
    "from plotnine import *\n",
    "import seaborn\n",
    "\n",
    "import neutcurve\n",
    "from neutcurve.colorschemes import CBMARKERS, CBPALETTE\n",
    "\n",
    "import yaml"
   ]
  },
  {
   "cell_type": "code",
   "execution_count": 2,
   "metadata": {
    "execution": {
     "iopub.execute_input": "2022-03-26T20:06:36.981204Z",
     "iopub.status.busy": "2022-03-26T20:06:36.980511Z",
     "iopub.status.idle": "2022-03-26T20:06:36.982062Z",
     "shell.execute_reply": "2022-03-26T20:06:36.982591Z"
    }
   },
   "outputs": [],
   "source": [
    "warnings.simplefilter('ignore')"
   ]
  },
  {
   "cell_type": "markdown",
   "metadata": {},
   "source": [
    "Read config file."
   ]
  },
  {
   "cell_type": "code",
   "execution_count": 3,
   "metadata": {
    "execution": {
     "iopub.execute_input": "2022-03-26T20:06:36.990023Z",
     "iopub.status.busy": "2022-03-26T20:06:36.987007Z",
     "iopub.status.idle": "2022-03-26T20:06:36.991484Z",
     "shell.execute_reply": "2022-03-26T20:06:36.991917Z"
    }
   },
   "outputs": [],
   "source": [
    "with open('config.yaml') as f:\n",
    "    config = yaml.safe_load(f)"
   ]
  },
  {
   "cell_type": "markdown",
   "metadata": {},
   "source": [
    "Set seaborn theme:"
   ]
  },
  {
   "cell_type": "code",
   "execution_count": 4,
   "metadata": {
    "execution": {
     "iopub.execute_input": "2022-03-26T20:06:36.997175Z",
     "iopub.status.busy": "2022-03-26T20:06:36.996620Z",
     "iopub.status.idle": "2022-03-26T20:06:36.998379Z",
     "shell.execute_reply": "2022-03-26T20:06:36.998807Z"
    }
   },
   "outputs": [],
   "source": [
    "theme_set(theme_seaborn(style='white', context='talk', font_scale=1))\n",
    "plt.style.use('seaborn-white')"
   ]
  },
  {
   "cell_type": "code",
   "execution_count": 5,
   "metadata": {
    "execution": {
     "iopub.execute_input": "2022-03-26T20:06:37.003090Z",
     "iopub.status.busy": "2022-03-26T20:06:37.002541Z",
     "iopub.status.idle": "2022-03-26T20:06:37.004666Z",
     "shell.execute_reply": "2022-03-26T20:06:37.005101Z"
    }
   },
   "outputs": [],
   "source": [
    "resultsdir=config['resultsdir']\n",
    "os.makedirs(resultsdir, exist_ok=True)"
   ]
  },
  {
   "cell_type": "markdown",
   "metadata": {},
   "source": [
    "## Read in data"
   ]
  },
  {
   "cell_type": "code",
   "execution_count": 6,
   "metadata": {
    "execution": {
     "iopub.execute_input": "2022-03-26T20:06:37.011273Z",
     "iopub.status.busy": "2022-03-26T20:06:37.010204Z",
     "iopub.status.idle": "2022-03-26T20:06:37.016222Z",
     "shell.execute_reply": "2022-03-26T20:06:37.015699Z"
    }
   },
   "outputs": [],
   "source": [
    "frac_infect = pd.read_csv(config['mAb_neuts'], index_col=0)"
   ]
  },
  {
   "cell_type": "code",
   "execution_count": 7,
   "metadata": {
    "execution": {
     "iopub.execute_input": "2022-03-26T20:06:37.022698Z",
     "iopub.status.busy": "2022-03-26T20:06:37.022011Z",
     "iopub.status.idle": "2022-03-26T20:06:37.024575Z",
     "shell.execute_reply": "2022-03-26T20:06:37.023931Z"
    }
   },
   "outputs": [],
   "source": [
    "frac_infect['serum'] = frac_infect['serum'].map({'LyCoV555': 'LY-CoV555 (ACE2-competing RBD antibody)',\n",
    "                                                 'S309': 'S309 (non-ACE2 competing RBD antibody)',\n",
    "                                                 '4A8': '4A8 (NTD binding antibody)'})\n"
   ]
  },
  {
   "cell_type": "code",
   "execution_count": 8,
   "metadata": {
    "execution": {
     "iopub.execute_input": "2022-03-26T20:06:37.032224Z",
     "iopub.status.busy": "2022-03-26T20:06:37.031375Z",
     "iopub.status.idle": "2022-03-26T20:06:37.046405Z",
     "shell.execute_reply": "2022-03-26T20:06:37.046892Z"
    }
   },
   "outputs": [
    {
     "data": {
      "text/html": [
       "<div>\n",
       "<style scoped>\n",
       "    .dataframe tbody tr th:only-of-type {\n",
       "        vertical-align: middle;\n",
       "    }\n",
       "\n",
       "    .dataframe tbody tr th {\n",
       "        vertical-align: top;\n",
       "    }\n",
       "\n",
       "    .dataframe thead th {\n",
       "        text-align: right;\n",
       "    }\n",
       "</style>\n",
       "<table border=\"1\" class=\"dataframe\">\n",
       "  <thead>\n",
       "    <tr style=\"text-align: right;\">\n",
       "      <th></th>\n",
       "      <th>serum</th>\n",
       "      <th>virus</th>\n",
       "      <th>replicate</th>\n",
       "      <th>concentration</th>\n",
       "      <th>fraction infectivity</th>\n",
       "    </tr>\n",
       "  </thead>\n",
       "  <tbody>\n",
       "    <tr>\n",
       "      <th>0</th>\n",
       "      <td>LY-CoV555 (ACE2-competing RBD antibody)</td>\n",
       "      <td>very low</td>\n",
       "      <td>1</td>\n",
       "      <td>0.166667</td>\n",
       "      <td>0.000002</td>\n",
       "    </tr>\n",
       "    <tr>\n",
       "      <th>1</th>\n",
       "      <td>LY-CoV555 (ACE2-competing RBD antibody)</td>\n",
       "      <td>very low</td>\n",
       "      <td>1</td>\n",
       "      <td>0.041667</td>\n",
       "      <td>0.003510</td>\n",
       "    </tr>\n",
       "    <tr>\n",
       "      <th>2</th>\n",
       "      <td>LY-CoV555 (ACE2-competing RBD antibody)</td>\n",
       "      <td>very low</td>\n",
       "      <td>1</td>\n",
       "      <td>0.010417</td>\n",
       "      <td>0.099252</td>\n",
       "    </tr>\n",
       "    <tr>\n",
       "      <th>3</th>\n",
       "      <td>LY-CoV555 (ACE2-competing RBD antibody)</td>\n",
       "      <td>very low</td>\n",
       "      <td>1</td>\n",
       "      <td>0.002604</td>\n",
       "      <td>0.513108</td>\n",
       "    </tr>\n",
       "    <tr>\n",
       "      <th>4</th>\n",
       "      <td>LY-CoV555 (ACE2-competing RBD antibody)</td>\n",
       "      <td>very low</td>\n",
       "      <td>1</td>\n",
       "      <td>0.000651</td>\n",
       "      <td>0.850309</td>\n",
       "    </tr>\n",
       "    <tr>\n",
       "      <th>...</th>\n",
       "      <td>...</td>\n",
       "      <td>...</td>\n",
       "      <td>...</td>\n",
       "      <td>...</td>\n",
       "      <td>...</td>\n",
       "    </tr>\n",
       "    <tr>\n",
       "      <th>187</th>\n",
       "      <td>4A8 (NTD binding antibody)</td>\n",
       "      <td>high</td>\n",
       "      <td>2</td>\n",
       "      <td>0.002604</td>\n",
       "      <td>1.140743</td>\n",
       "    </tr>\n",
       "    <tr>\n",
       "      <th>188</th>\n",
       "      <td>4A8 (NTD binding antibody)</td>\n",
       "      <td>high</td>\n",
       "      <td>2</td>\n",
       "      <td>0.000651</td>\n",
       "      <td>0.979990</td>\n",
       "    </tr>\n",
       "    <tr>\n",
       "      <th>189</th>\n",
       "      <td>4A8 (NTD binding antibody)</td>\n",
       "      <td>high</td>\n",
       "      <td>2</td>\n",
       "      <td>0.000163</td>\n",
       "      <td>0.950808</td>\n",
       "    </tr>\n",
       "    <tr>\n",
       "      <th>190</th>\n",
       "      <td>4A8 (NTD binding antibody)</td>\n",
       "      <td>high</td>\n",
       "      <td>2</td>\n",
       "      <td>0.000041</td>\n",
       "      <td>0.985863</td>\n",
       "    </tr>\n",
       "    <tr>\n",
       "      <th>191</th>\n",
       "      <td>4A8 (NTD binding antibody)</td>\n",
       "      <td>high</td>\n",
       "      <td>2</td>\n",
       "      <td>0.000010</td>\n",
       "      <td>0.923761</td>\n",
       "    </tr>\n",
       "  </tbody>\n",
       "</table>\n",
       "<p>192 rows × 5 columns</p>\n",
       "</div>"
      ],
      "text/plain": [
       "                                       serum     virus  replicate  \\\n",
       "0    LY-CoV555 (ACE2-competing RBD antibody)  very low          1   \n",
       "1    LY-CoV555 (ACE2-competing RBD antibody)  very low          1   \n",
       "2    LY-CoV555 (ACE2-competing RBD antibody)  very low          1   \n",
       "3    LY-CoV555 (ACE2-competing RBD antibody)  very low          1   \n",
       "4    LY-CoV555 (ACE2-competing RBD antibody)  very low          1   \n",
       "..                                       ...       ...        ...   \n",
       "187               4A8 (NTD binding antibody)      high          2   \n",
       "188               4A8 (NTD binding antibody)      high          2   \n",
       "189               4A8 (NTD binding antibody)      high          2   \n",
       "190               4A8 (NTD binding antibody)      high          2   \n",
       "191               4A8 (NTD binding antibody)      high          2   \n",
       "\n",
       "     concentration  fraction infectivity  \n",
       "0         0.166667              0.000002  \n",
       "1         0.041667              0.003510  \n",
       "2         0.010417              0.099252  \n",
       "3         0.002604              0.513108  \n",
       "4         0.000651              0.850309  \n",
       "..             ...                   ...  \n",
       "187       0.002604              1.140743  \n",
       "188       0.000651              0.979990  \n",
       "189       0.000163              0.950808  \n",
       "190       0.000041              0.985863  \n",
       "191       0.000010              0.923761  \n",
       "\n",
       "[192 rows x 5 columns]"
      ]
     },
     "execution_count": 8,
     "metadata": {},
     "output_type": "execute_result"
    }
   ],
   "source": [
    "frac_infect"
   ]
  },
  {
   "cell_type": "markdown",
   "metadata": {},
   "source": [
    "## Fit Hill curve to data using [`neutcurve`](https://jbloomlab.github.io/neutcurve/)"
   ]
  },
  {
   "cell_type": "code",
   "execution_count": 9,
   "metadata": {
    "execution": {
     "iopub.execute_input": "2022-03-26T20:06:37.078257Z",
     "iopub.status.busy": "2022-03-26T20:06:37.077279Z",
     "iopub.status.idle": "2022-03-26T20:06:37.143442Z",
     "shell.execute_reply": "2022-03-26T20:06:37.142748Z"
    }
   },
   "outputs": [],
   "source": [
    "fits = neutcurve.CurveFits(frac_infect, fixbottom= False, fixtop= True)"
   ]
  },
  {
   "cell_type": "code",
   "execution_count": 10,
   "metadata": {
    "execution": {
     "iopub.execute_input": "2022-03-26T20:06:37.152219Z",
     "iopub.status.busy": "2022-03-26T20:06:37.151450Z",
     "iopub.status.idle": "2022-03-26T20:06:37.210615Z",
     "shell.execute_reply": "2022-03-26T20:06:37.209681Z"
    }
   },
   "outputs": [],
   "source": [
    "fitparams = (\n",
    "        fits.fitParams()\n",
    "        # get columns of interest\n",
    "        [['serum', 'ic50', 'ic50_bound','virus']]\n",
    "        .assign(NT50=lambda x: 1/x['ic50'])        \n",
    "        )"
   ]
  },
  {
   "cell_type": "code",
   "execution_count": 11,
   "metadata": {
    "execution": {
     "iopub.execute_input": "2022-03-26T20:06:37.217195Z",
     "iopub.status.busy": "2022-03-26T20:06:37.216482Z",
     "iopub.status.idle": "2022-03-26T20:06:37.218992Z",
     "shell.execute_reply": "2022-03-26T20:06:37.218456Z"
    }
   },
   "outputs": [],
   "source": [
    "cat_order = ['very low', 'low', 'medium', 'high']\n",
    "fitparams['virus'] = pd.Categorical(fitparams['virus'],\n",
    "                                    categories=cat_order,\n",
    "                                    ordered=True)"
   ]
  },
  {
   "cell_type": "code",
   "execution_count": 12,
   "metadata": {
    "execution": {
     "iopub.execute_input": "2022-03-26T20:06:37.231623Z",
     "iopub.status.busy": "2022-03-26T20:06:37.230998Z",
     "iopub.status.idle": "2022-03-26T20:06:37.234423Z",
     "shell.execute_reply": "2022-03-26T20:06:37.233818Z"
    }
   },
   "outputs": [
    {
     "data": {
      "text/html": [
       "<div>\n",
       "<style scoped>\n",
       "    .dataframe tbody tr th:only-of-type {\n",
       "        vertical-align: middle;\n",
       "    }\n",
       "\n",
       "    .dataframe tbody tr th {\n",
       "        vertical-align: top;\n",
       "    }\n",
       "\n",
       "    .dataframe thead th {\n",
       "        text-align: right;\n",
       "    }\n",
       "</style>\n",
       "<table border=\"1\" class=\"dataframe\">\n",
       "  <thead>\n",
       "    <tr style=\"text-align: right;\">\n",
       "      <th></th>\n",
       "      <th>serum</th>\n",
       "      <th>ic50</th>\n",
       "      <th>ic50_bound</th>\n",
       "      <th>virus</th>\n",
       "      <th>NT50</th>\n",
       "    </tr>\n",
       "  </thead>\n",
       "  <tbody>\n",
       "    <tr>\n",
       "      <th>0</th>\n",
       "      <td>LY-CoV555 (ACE2-competing RBD antibody)</td>\n",
       "      <td>0.002520</td>\n",
       "      <td>interpolated</td>\n",
       "      <td>very low</td>\n",
       "      <td>396.764998</td>\n",
       "    </tr>\n",
       "    <tr>\n",
       "      <th>1</th>\n",
       "      <td>LY-CoV555 (ACE2-competing RBD antibody)</td>\n",
       "      <td>0.003043</td>\n",
       "      <td>interpolated</td>\n",
       "      <td>low</td>\n",
       "      <td>328.656981</td>\n",
       "    </tr>\n",
       "    <tr>\n",
       "      <th>2</th>\n",
       "      <td>LY-CoV555 (ACE2-competing RBD antibody)</td>\n",
       "      <td>0.004048</td>\n",
       "      <td>interpolated</td>\n",
       "      <td>medium</td>\n",
       "      <td>247.026726</td>\n",
       "    </tr>\n",
       "    <tr>\n",
       "      <th>3</th>\n",
       "      <td>LY-CoV555 (ACE2-competing RBD antibody)</td>\n",
       "      <td>0.015075</td>\n",
       "      <td>interpolated</td>\n",
       "      <td>high</td>\n",
       "      <td>66.334383</td>\n",
       "    </tr>\n",
       "    <tr>\n",
       "      <th>4</th>\n",
       "      <td>S309 (non-ACE2 competing RBD antibody)</td>\n",
       "      <td>0.011144</td>\n",
       "      <td>interpolated</td>\n",
       "      <td>very low</td>\n",
       "      <td>89.731906</td>\n",
       "    </tr>\n",
       "    <tr>\n",
       "      <th>5</th>\n",
       "      <td>S309 (non-ACE2 competing RBD antibody)</td>\n",
       "      <td>0.022513</td>\n",
       "      <td>interpolated</td>\n",
       "      <td>low</td>\n",
       "      <td>44.419146</td>\n",
       "    </tr>\n",
       "    <tr>\n",
       "      <th>6</th>\n",
       "      <td>S309 (non-ACE2 competing RBD antibody)</td>\n",
       "      <td>0.031744</td>\n",
       "      <td>interpolated</td>\n",
       "      <td>medium</td>\n",
       "      <td>31.501638</td>\n",
       "    </tr>\n",
       "    <tr>\n",
       "      <th>7</th>\n",
       "      <td>S309 (non-ACE2 competing RBD antibody)</td>\n",
       "      <td>6.000000</td>\n",
       "      <td>lower</td>\n",
       "      <td>high</td>\n",
       "      <td>0.166667</td>\n",
       "    </tr>\n",
       "    <tr>\n",
       "      <th>8</th>\n",
       "      <td>4A8 (NTD binding antibody)</td>\n",
       "      <td>0.005148</td>\n",
       "      <td>interpolated</td>\n",
       "      <td>very low</td>\n",
       "      <td>194.232873</td>\n",
       "    </tr>\n",
       "    <tr>\n",
       "      <th>9</th>\n",
       "      <td>4A8 (NTD binding antibody)</td>\n",
       "      <td>0.006607</td>\n",
       "      <td>interpolated</td>\n",
       "      <td>low</td>\n",
       "      <td>151.363779</td>\n",
       "    </tr>\n",
       "    <tr>\n",
       "      <th>10</th>\n",
       "      <td>4A8 (NTD binding antibody)</td>\n",
       "      <td>0.007905</td>\n",
       "      <td>interpolated</td>\n",
       "      <td>medium</td>\n",
       "      <td>126.494615</td>\n",
       "    </tr>\n",
       "    <tr>\n",
       "      <th>11</th>\n",
       "      <td>4A8 (NTD binding antibody)</td>\n",
       "      <td>0.166667</td>\n",
       "      <td>lower</td>\n",
       "      <td>high</td>\n",
       "      <td>6.000000</td>\n",
       "    </tr>\n",
       "  </tbody>\n",
       "</table>\n",
       "</div>"
      ],
      "text/plain": [
       "                                      serum      ic50    ic50_bound     virus  \\\n",
       "0   LY-CoV555 (ACE2-competing RBD antibody)  0.002520  interpolated  very low   \n",
       "1   LY-CoV555 (ACE2-competing RBD antibody)  0.003043  interpolated       low   \n",
       "2   LY-CoV555 (ACE2-competing RBD antibody)  0.004048  interpolated    medium   \n",
       "3   LY-CoV555 (ACE2-competing RBD antibody)  0.015075  interpolated      high   \n",
       "4    S309 (non-ACE2 competing RBD antibody)  0.011144  interpolated  very low   \n",
       "5    S309 (non-ACE2 competing RBD antibody)  0.022513  interpolated       low   \n",
       "6    S309 (non-ACE2 competing RBD antibody)  0.031744  interpolated    medium   \n",
       "7    S309 (non-ACE2 competing RBD antibody)  6.000000         lower      high   \n",
       "8                4A8 (NTD binding antibody)  0.005148  interpolated  very low   \n",
       "9                4A8 (NTD binding antibody)  0.006607  interpolated       low   \n",
       "10               4A8 (NTD binding antibody)  0.007905  interpolated    medium   \n",
       "11               4A8 (NTD binding antibody)  0.166667         lower      high   \n",
       "\n",
       "          NT50  \n",
       "0   396.764998  \n",
       "1   328.656981  \n",
       "2   247.026726  \n",
       "3    66.334383  \n",
       "4    89.731906  \n",
       "5    44.419146  \n",
       "6    31.501638  \n",
       "7     0.166667  \n",
       "8   194.232873  \n",
       "9   151.363779  \n",
       "10  126.494615  \n",
       "11    6.000000  "
      ]
     },
     "execution_count": 12,
     "metadata": {},
     "output_type": "execute_result"
    }
   ],
   "source": [
    "fitparams"
   ]
  },
  {
   "cell_type": "code",
   "execution_count": 13,
   "metadata": {
    "execution": {
     "iopub.execute_input": "2022-03-26T20:06:37.240147Z",
     "iopub.status.busy": "2022-03-26T20:06:37.239463Z",
     "iopub.status.idle": "2022-03-26T20:06:37.242906Z",
     "shell.execute_reply": "2022-03-26T20:06:37.242044Z"
    }
   },
   "outputs": [],
   "source": [
    "fitparams['ic50_is_bound'] = fitparams['ic50_bound'].apply(lambda x: True if x!='interpolated' else False)\n"
   ]
  },
  {
   "cell_type": "markdown",
   "metadata": {},
   "source": [
    "## Plot neut curves for mAbs"
   ]
  },
  {
   "cell_type": "code",
   "execution_count": 19,
   "metadata": {
    "execution": {
     "iopub.execute_input": "2022-03-26T20:06:37.263161Z",
     "iopub.status.busy": "2022-03-26T20:06:37.253439Z",
     "iopub.status.idle": "2022-03-26T20:06:38.206908Z",
     "shell.execute_reply": "2022-03-26T20:06:38.208146Z"
    }
   },
   "outputs": [
    {
     "data": {
      "image/png": "[encoded data removed]",
      "text/plain": [
       "<Figure size 1080x351 with 4 Axes>"
      ]
     },
     "metadata": {},
     "output_type": "display_data"
    }
   ],
   "source": [
    "fig, axes = fits.plotSera(\n",
    "                          viruses=['very low', 'low', 'medium', 'high'],\n",
    "                          xlabel='concentration (µg/ml)',\n",
    "                          ncol=3,\n",
    "                          widthscale=1.5,\n",
    "                          heightscale=1.5,\n",
    "                          titlesize=16, labelsize=16, ticksize=11,\n",
    "                          legendfontsize=16, yticklocs=[0,0.5,1],\n",
    "                          markersize=5, linewidth=1,\n",
    "                          legendtitle='Cell ACE2 expression' ,\n",
    "                          virus_to_color_marker={\n",
    "                              'very low': ('#F0E442', 'o'),\n",
    "                              'low': ('#CC79A7', 'o'),\n",
    "                              'medium': ('#009E73', 'o'),\n",
    "                              'high': ('#0072B2', 'o')},\n",
    "                          sharex=False\n",
    "                         )"
   ]
  },
  {
   "cell_type": "code",
   "execution_count": null,
   "metadata": {},
   "outputs": [],
   "source": []
  }
 ],
 "metadata": {
  "kernelspec": {
   "display_name": "Python 3 (ipykernel)",
   "language": "python",
   "name": "python3"
  },
  "language_info": {
   "codemirror_mode": {
    "name": "ipython",
    "version": 3
   },
   "file_extension": ".py",
   "mimetype": "text/x-python",
   "name": "python",
   "nbconvert_exporter": "python",
   "pygments_lexer": "ipython3",
   "version": "3.8.12"
  }
 },
 "nbformat": 4,
 "nbformat_minor": 4
}
